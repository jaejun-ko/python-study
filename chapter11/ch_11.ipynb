{
 "cells": [
  {
   "cell_type": "markdown",
   "metadata": {},
   "source": [
    "## **11장 병행성과 네트워크**\n",
    "\n",
    "<br>\n",
    "\n",
    "병행성과 네트워크를 활용하는 이유\n",
    "\n",
    "* `성능`<br>\n",
    "느린 요소를 기다리지 않고 빠른 요소를 바쁘게 유지\n",
    "\n",
    "* `견고함`<br>\n",
    "작업을 복제하여 안정적인 방식으로 운영\n",
    "\n",
    "* `간소화`<br>\n",
    "작업을 이해하기 쉽고, 해결하기 쉽도록 여러작업으로 분해\n",
    "\n",
    "* `커뮤니케이션`<br>\n",
    "원격으로 데이터를 발신/수신\n",
    "\n",
    "<br>\n",
    "\n",
    "## **11.1 병행성**\n",
    "\n",
    "1. 싱글머신에서 다수의 작업을 빠르게 처리해야할 필요가 발생\n",
    "2. 각 작업을 독립적으로 만들어 느린작업이 나머지 작업을 블로킹 하지 않도록 구성\n",
    "3. 모든 작업을 동시에 실행하면 `병목 현상이 발생할 수 있다`\n",
    "4. 병렬 컴퓨팅의 복잡성을 해결해야할 필요성이 생김\n",
    "\n",
    "<br>\n",
    "\n",
    "## **11.1.1 큐**\n",
    "\n",
    "**`FIFO` (First-In-First-Out)**\n",
    "![queue](queue_desc.png)"
   ]
  },
  {
   "cell_type": "markdown",
   "metadata": {},
   "source": [
    "## **11.1.2 프로세스**\n",
    "\n",
    "`multiprocessing` 모듈을 활용하여 queue 구현"
   ]
  },
  {
   "cell_type": "code",
   "execution_count": null,
   "metadata": {},
   "outputs": [],
   "source": [
    "from multiprocessing import Process, Queue\n",
    "  \n",
    "from creator import creator\n",
    "from consumer import consumer\n",
    "\n",
    "createQ = Queue()\n",
    "consumeQ = Queue()\n",
    "\n",
    "process_create = Process(target=creator, args=(createQ, consumeQ))\n",
    "process_create.start()\n",
    "\n",
    "process_consume = Process(target=consumer, args=(consumeQ,))\n",
    "process_consume.start()\n",
    "\n",
    "numbers = [1, 2, 3, 4, 5, 'd', -1]\n",
    "for number in numbers:\n",
    "    createQ.put(number)\n",
    "\n",
    "\n",
    "createQ.close()\n",
    "consumeQ.close()\n",
    "createQ.join_thread()\n",
    "consumeQ.join_thread()\n",
    "\n",
    "process_create.join()\n",
    "process_consume.join()"
   ]
  },
  {
   "cell_type": "markdown",
   "metadata": {},
   "source": [
    "\n",
    "<br>\n",
    "\n",
    "## **11.1.3 쓰레드**\n",
    "\n",
    "* 쓰레드는 한 프로세스 내에서 실행된다\n",
    "* 프로세스의 모든 자원에 접근할 수 있다"
   ]
  },
  {
   "cell_type": "code",
   "execution_count": null,
   "metadata": {},
   "outputs": [],
   "source": [
    "import threading, queue\n",
    "  \n",
    "from creator_thread import creator\n",
    "from consumer_thread import consumer\n",
    "\n",
    "create_queue = queue.Queue()\n",
    "consume_queue = queue.Queue()\n",
    "\n",
    "threading.Thread(target=creator, args=(create_queue, consume_queue)).start()\n",
    "for num in range(2):\n",
    "    threading.Thread(target=consumer, args=(consume_queue, num)).start()\n",
    "\n",
    "numbers = [1, 2, 3, 4, 5, -1]\n",
    "for number in numbers:\n",
    "    create_queue.put(number)\n",
    "    \n"
   ]
  },
  {
   "cell_type": "markdown",
   "metadata": {},
   "source": [
    "\n",
    "<br>\n",
    "\n",
    "* threading 모듈에는 terminate() 함수가 없다 - 쉽게 종료할 수 있는 방법이 없음\n",
    "* 쓰레드는 위험하다 - 매우 찾기 힘든 버그가 발생 할 있다\n",
    "* 쓰레드를 사용하려면 항상 thread-safe 한 코드를 작성해야 한다<br>\n",
    "일반적으로 전역데이터를 쓰레드가 변경할때는 lock 을 사용하지만 똑바로 사용하기가 매우 어렵다\n"
   ]
  },
  {
   "cell_type": "markdown",
   "metadata": {},
   "source": [
    "\n",
    "<br>\n",
    "\n",
    "## **11.2 네트워크**\n",
    "\n",
    "<br>\n",
    "\n",
    "### **11.2.1 패턴**\n",
    "\n",
    "* `요청-응답` 패턴<br>\n",
    "요청을 보낸 후 응답을 기다리는 동기적 방식<br>\n",
    "ex) 웹브라우저 - 웹서버\n",
    "\n",
    "* `푸시/팬아웃` 패턴<br>\n",
    "데이터를 pool 에 있는 사용가능한 워커로 전송<br>\n",
    "ex) 로드밸런서\n",
    "\n",
    "* `풀/팬인` 패턴<br>\n",
    "하나 이상의 소스로부터 데이터를 받는다\n",
    "ex) 토렌트\n",
    "\n",
    "* `발행/구독` 패턴<br>\n",
    "발행자는 데이터 전송만 하고 구독자에 관심이 없음<br>\n",
    "구독자는 발행자 자체가 아닌 topic 에 관심을 두고 해당 topic의 데이터만 전송받는다<br>\n",
    "ex) 라디오/텔레비전\n"
   ]
  },
  {
   "cell_type": "markdown",
   "metadata": {},
   "source": [
    "<br>\n",
    "\n",
    "### **11.2.2 발행-구독 모델**\n",
    "\n",
    "발행-구독은 큐가 아닌 broadcast<br>\n",
    "* 하나 이상의 프로세스가 메세지를 발행\n",
    "* 구독자 프로세스는 수신하고자 하는 메세지의 타입을 표시<br>\n",
    " --> 각 메세지의 복사본이 타입과 일치하는 구독자에 전송"
   ]
  },
  {
   "cell_type": "markdown",
   "metadata": {},
   "source": [
    "\n",
    "<br>\n",
    "\n",
    "### **Redis**"
   ]
  },
  {
   "cell_type": "code",
   "execution_count": null,
   "metadata": {},
   "outputs": [],
   "source": [
    "import threading\n",
    "from redis_pub import publish\n",
    "from redis_sub import subscribe\n",
    "\n",
    "threading.Thread(target=subscribe).start()\n",
    "threading.Thread(target=publish).start()"
   ]
  },
  {
   "cell_type": "markdown",
   "metadata": {},
   "source": [
    "\n",
    "<br>\n",
    "\n",
    "## **11.2.3 TCP/IP**\n",
    "\n",
    "* `프로토콜`: 커넥션을 맺고, 데이터를 교환하고, 커넥션을 종료 하는 등의 방법에 대한 **규칙**\n",
    "\n",
    "* 인터넷은 `계층` 으로 정렬되어 있다\n",
    "\n",
    "* `네트워크의 위치`와 데이트 흐름의 `패킷`을 명시하는 `IP 계층`<br>\n",
    "\n",
    "* IP 계층 에서 네트워크 사이에서 바이트를 이동하는 프로토콜 두가지<br>\n",
    "    \n",
    "    **1. `UDP`(User Datagram Protocol)**<br>\n",
    "    짧은 데이터 교환에 사용된다. 한 단위 (single burst)로 전송되는 작은 메세지<br>\n",
    "    `응답 메세지(ACK)가 없기 때문에` 목적지에 잘 도착했는지 확인할 수 없다\n",
    "    \n",
    "    **1. `TCP`(Transmission Control Protocol)**<br>\n",
    "    수명이 긴 커넥션에 사용된다. 바이트 스트림이 중복없이 순서대로 도착하는 것을 보장<br>\n",
    "    송/수신자 사이의 커넥션을 보장하기 위한 `핸드셰이크`를 설정한다<br>\n",
    "    웹, 데이터베이스 서버 등 대부분의 인터넷은 TCP 프로토콜로 수행된다\n"
   ]
  },
  {
   "cell_type": "markdown",
   "metadata": {},
   "source": [
    "\n",
    "<br>\n",
    "\n",
    "## **11.2.4 소켓**\n",
    "\n",
    "#### 네트워크 프로그래밍의 가장 낮은 수준\n",
    "\n",
    "<br>\n",
    "\n",
    "### UDP 프로토콜 사용"
   ]
  },
  {
   "cell_type": "code",
   "execution_count": null,
   "metadata": {},
   "outputs": [],
   "source": [
    "import threading\n",
    "from udp_server import open_server\n",
    "from udp_client import connect_server\n",
    "import time\n",
    "\n",
    "threading.Thread(target=open_server).start()\n",
    "time.sleep(3)\n",
    "threading.Thread(target=connect_server).start()"
   ]
  },
  {
   "cell_type": "markdown",
   "metadata": {},
   "source": [
    "\n",
    "<br>\n",
    "\n",
    "### TCP 프로토콜 사용\n",
    "\n",
    "TCP는 클라이언트와 서버의 커넥션을 유지하고 클라이언트의 IP 주소를 기억한다"
   ]
  },
  {
   "cell_type": "code",
   "execution_count": null,
   "metadata": {},
   "outputs": [],
   "source": [
    "import threading\n",
    "from tcp_server import open_server\n",
    "from tcp_client import connect_server\n",
    "import time\n",
    "\n",
    "threading.Thread(target=open_server).start()\n",
    "time.sleep(3)\n",
    "threading.Thread(target=connect_server).start()"
   ]
  },
  {
   "cell_type": "markdown",
   "metadata": {},
   "source": [
    "\n",
    "<br>\n",
    "\n",
    "#### TCP 와 UDP 특징들\n",
    "\n",
    "* UDP 는 메세지 크기에 제한이 있다.\n",
    "* UDP 는 메세지가 목적지까지 도달하는 것을 보장하지 않는다\n",
    "* TCP 는 메세지가 아닌 바이트 스트림을 전송한다\n",
    "* TCP 를 통해 전체 메세지를 전달하기 위해 세그먼트로부터 전체 메세지를 재구성하기 위한 몇가지 추가정보가 필요\n",
    "\n",
    "![tcp-segmen](desc_tcp_segment.png)"
   ]
  },
  {
   "cell_type": "markdown",
   "metadata": {},
   "source": [
    "\n",
    "<br>\n",
    "\n",
    "### **DNS**\n",
    "\n",
    "DNS(Domain Name System)는 분산된 데이터베이스를 통해<br>\n",
    "IP 주소 -> 이름 또는 그반대를 수행하는 인터넷 서비스"
   ]
  },
  {
   "cell_type": "code",
   "execution_count": null,
   "metadata": {},
   "outputs": [],
   "source": [
    "import socket\n",
    "\n",
    "# 호스트이름 -> ip 주소\n",
    "socket.gethostbyname('www.google.com')"
   ]
  },
  {
   "cell_type": "code",
   "execution_count": null,
   "metadata": {},
   "outputs": [],
   "source": [
    "# 호스트이름 -> 이름, 또 다른 호스트이름 리스트, ip주소 리스트\n",
    "socket.gethostbyname_ex('www.google.com')"
   ]
  },
  {
   "cell_type": "markdown",
   "metadata": {},
   "source": [
    "\n",
    "<br>\n",
    "\n",
    "## **11.2.8 웹 서비스와 API**\n",
    "\n",
    "\n",
    "#### 웹사이트에서 데이터에 대한 API를 제공할 때 사용방법"
   ]
  },
  {
   "cell_type": "code",
   "execution_count": null,
   "metadata": {},
   "outputs": [],
   "source": [
    "import requests\n",
    "\n",
    "url = \"https://jsonplaceholder.typicode.com/todos/1\"\n",
    "\n",
    "# 데이터 얻어옴\n",
    "response = requests.get(url)\n",
    "\n",
    "# json 으로 parsing\n",
    "response.json()"
   ]
  },
  {
   "cell_type": "markdown",
   "metadata": {},
   "source": [
    "\n",
    "<br>\n",
    "\n",
    "## **11.2.9 원격 프로세싱**\n",
    "\n",
    "`RPC`(Remote Procedure Call)는 네트워크를 통해 원격에 있는 머신을 실행시킨다\n",
    "\n",
    "<br>\n",
    "\n",
    "#### 원격 클라이언트 측\n",
    "1. 함수의 인자를 바이트로 변환\n",
    "2. 인코딩된 바이트를 원격 머신으로 전송\n",
    "\n",
    "#### 원격 머신 측\n",
    "1. 인코딩된 요청 바이트를 수신\n",
    "2. 바이트 수신후 다시 원래의 데이터 구조로 바이트를 디코딩\n",
    "3. 디코딩된 데이터와 함께 로컬 함수를 찾아서 호출\n",
    "4. 함수 결과를 인코딩\n",
    "5. 클라이언트에게 인코딩된 바이트 전송"
   ]
  },
  {
   "cell_type": "code",
   "execution_count": 1,
   "metadata": {},
   "outputs": [
    {
     "name": "stdout",
     "output_type": "stream",
     "text": [
      "server started\n"
     ]
    },
    {
     "name": "stderr",
     "output_type": "stream",
     "text": [
      "127.0.0.1 - - [26/Jul/2020 11:10:02] \"POST / HTTP/1.1\" 200 -\n"
     ]
    },
    {
     "name": "stdout",
     "output_type": "stream",
     "text": [
      "log complete: please\n"
     ]
    },
    {
     "name": "stderr",
     "output_type": "stream",
     "text": [
      "127.0.0.1 - - [26/Jul/2020 11:10:05] \"POST / HTTP/1.1\" 200 -\n"
     ]
    },
    {
     "name": "stdout",
     "output_type": "stream",
     "text": [
      "log complete: log\n"
     ]
    },
    {
     "name": "stderr",
     "output_type": "stream",
     "text": [
      "127.0.0.1 - - [26/Jul/2020 11:10:08] \"POST / HTTP/1.1\" 200 -\n"
     ]
    },
    {
     "name": "stdout",
     "output_type": "stream",
     "text": [
      "log complete: this\n"
     ]
    },
    {
     "name": "stderr",
     "output_type": "stream",
     "text": [
      "127.0.0.1 - - [26/Jul/2020 11:10:11] \"POST / HTTP/1.1\" 200 -\n"
     ]
    },
    {
     "name": "stdout",
     "output_type": "stream",
     "text": [
      "log complete: message\n"
     ]
    }
   ],
   "source": [
    "from rpc_serer import open_rpc_server\n",
    "from rpc_client import connect_rpc\n",
    "import threading\n",
    "import time\n",
    "\n",
    "threading.Thread(target=open_rpc_server).start()\n",
    "time.sleep(3)\n",
    "threading.Thread(target=connect_rpc).start()"
   ]
  },
  {
   "cell_type": "code",
   "execution_count": null,
   "metadata": {},
   "outputs": [],
   "source": []
  }
 ],
 "metadata": {
  "kernelspec": {
   "display_name": "Python 3",
   "language": "python",
   "name": "python3"
  },
  "language_info": {
   "codemirror_mode": {
    "name": "ipython",
    "version": 3
   },
   "file_extension": ".py",
   "mimetype": "text/x-python",
   "name": "python",
   "nbconvert_exporter": "python",
   "pygments_lexer": "ipython3",
   "version": "3.8.3"
  }
 },
 "nbformat": 4,
 "nbformat_minor": 4
}
