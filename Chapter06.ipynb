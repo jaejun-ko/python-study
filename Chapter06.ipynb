{
  "nbformat": 4,
  "nbformat_minor": 0,
  "metadata": {
    "colab": {
      "name": "Chapter06.ipynb",
      "provenance": [],
      "collapsed_sections": [],
      "authorship_tag": "ABX9TyPkTT8W1o8weLolhpHzja8h",
      "include_colab_link": true
    },
    "kernelspec": {
      "name": "python3",
      "display_name": "Python 3"
    }
  },
  "cells": [
    {
      "cell_type": "markdown",
      "metadata": {
        "id": "view-in-github",
        "colab_type": "text"
      },
      "source": [
        "<a href=\"https://colab.research.google.com/github/jaejun-ko/python-study/blob/master/Chapter06.ipynb\" target=\"_parent\"><img src=\"https://colab.research.google.com/assets/colab-badge.svg\" alt=\"Open In Colab\"/></a>"
      ]
    },
    {
      "cell_type": "markdown",
      "metadata": {
        "id": "X1wn12_-eqRb",
        "colab_type": "text"
      },
      "source": [
        "#Chapter 6. 객체와 클래스\n",
        "##6.1 객체란 무엇인가?\n",
        "- 파이썬의 '모든 것'은 '객체'이다.\n",
        "- 객체는 '속성(attribute)'과 '메서드(method)'를 포함한다.\n",
        "\n",
        "##6.2 클래스 선언하기:class\n",
        "- 파이썬에는 '리스트', '딕셔너리' 등을 포함한 표준 데이터 타입을 생성하는 다양한 '내장 클래스'가 있다.\n",
        "- 커스텀 객체를 생성하기 위해 'class' 키워드로 클래스를 정의한다."
      ]
    },
    {
      "cell_type": "code",
      "metadata": {
        "id": "2ZdAbUy4fR49",
        "colab_type": "code",
        "colab": {}
      },
      "source": [
        "class Person():\n",
        "  def __init__(self):\n",
        "    pass"
      ],
      "execution_count": null,
      "outputs": []
    },
    {
      "cell_type": "markdown",
      "metadata": {
        "id": "dVv44cQFfWcQ",
        "colab_type": "text"
      },
      "source": [
        "1. \\_\\_init\\_\\_ : 객체 초기화 메서드, 모든 클래스에서 지닐 필요는 없다.\n",
        "2. self : 객체 자기 자신을 가리키는 것으로, 예약어는 아니지만 일반적으로 'self'라고 작성한다."
      ]
    },
    {
      "cell_type": "code",
      "metadata": {
        "id": "h5o1dQitfoXy",
        "colab_type": "code",
        "colab": {
          "base_uri": "https://localhost:8080/",
          "height": 34
        },
        "outputId": "77092d80-ea1e-408f-e3d7-2329e1cd89bc"
      },
      "source": [
        "class Person():\n",
        "  def __init__(self, name):\n",
        "    self.name = name\n",
        "\n",
        "hunter = Person('Ko')\n",
        "\n",
        "print(hunter)"
      ],
      "execution_count": 4,
      "outputs": [
        {
          "output_type": "execute_result",
          "data": {
            "text/plain": [
              "<__main__.Person at 0x7fe321eadc50>"
            ]
          },
          "metadata": {
            "tags": []
          },
          "execution_count": 4
        }
      ]
    },
    {
      "cell_type": "markdown",
      "metadata": {
        "id": "ebVyjpPDfyTQ",
        "colab_type": "text"
      },
      "source": [
        "1. Person 클래스의 정의를 찾는다.\n",
        "2. 새 객체를 메모리에 초기화(생성)한다.\n",
        "3. 객체의 \\_\\_init\\_\\_ 메서드를 호출한다. 새롭게 생성된 객체를 self에 전달하고, 인자('Ko')를 name에 전달한다."
      ]
    },
    {
      "cell_type": "markdown",
      "metadata": {
        "id": "P3PUqxZdgG4C",
        "colab_type": "text"
      },
      "source": [
        "##6.3 상속\n",
        "- 기존 클래스에서 일부를 추가하거나 변경하여 새로운 클래스를 생성함으로써 재상용성을 높인다.\n",
        "- parent-child 또는 super-sub 또는 base-derieved 클래스라고 표현한다."
      ]
    },
    {
      "cell_type": "code",
      "metadata": {
        "id": "s02QPmZ0hOhn",
        "colab_type": "code",
        "colab": {}
      },
      "source": [
        "class Car():\n",
        "  pass\n",
        "class Yugo(Car):\n",
        "  pass"
      ],
      "execution_count": null,
      "outputs": []
    },
    {
      "cell_type": "markdown",
      "metadata": {
        "id": "0YBYZq3thR3s",
        "colab_type": "text"
      },
      "source": [
        "#6.4 메서드 오버라이드\n",
        "- 새 클래스(child, sub, derieved)는 parent(super, base) 클래스로부터 모든 것을 상속받는다."
      ]
    },
    {
      "cell_type": "code",
      "metadata": {
        "id": "e8F3ySR4gZFP",
        "colab_type": "code",
        "colab": {}
      },
      "source": [
        "class Car():\n",
        "  def exclaim(self): # 클래스 메서드 정의 시 객체 자신을 가리키는 첫번째 파라미터는 반드시 존재해야 하며, 일반적으로 'self' 라고 명명한다.\n",
        "    print(\"I'm a Car!\")\n",
        "class Yugo(Car):     # __init__ 메서드를 포함한 모든 메서드를 오버라이드 할 수 있다.\n",
        "  def exclaim(self):\n",
        "    print(\"I'm a Yugo!\")"
      ],
      "execution_count": null,
      "outputs": []
    },
    {
      "cell_type": "markdown",
      "metadata": {
        "id": "wkUGcAIpgdrK",
        "colab_type": "text"
      },
      "source": [
        "#6.5 메서드 추가하기\n",
        "- 자식 클래스는 부모 클래스에 없는 메서드를 추가할 수 있다."
      ]
    },
    {
      "cell_type": "code",
      "metadata": {
        "id": "M0iU8WkXiCB1",
        "colab_type": "code",
        "colab": {}
      },
      "source": [
        "class Car():\n",
        "  def exclaim(self):\n",
        "    print(\"I'm a Car!\")\n",
        "class Yugo(Car):\n",
        "  def exclaim(self):\n",
        "    print(\"I'm a Yugo!\")\n",
        "  def need_a_push(self):\n",
        "    print(\"A little help here?\")\n",
        "\n",
        "car  = Car()\n",
        "yugo = Yugo()\n",
        "\n",
        "yugo.need_a_push()\n",
        "\n",
        "#car.need_a_push()"
      ],
      "execution_count": null,
      "outputs": []
    },
    {
      "cell_type": "markdown",
      "metadata": {
        "id": "5cuCmWK-inDJ",
        "colab_type": "text"
      },
      "source": [
        "#6.6 부모에게 도움받기:super\n",
        "- 자식 클래스에서 부모 클래스의 메서드를 호출하기 위해서는 'super()'를 사용하면 된다."
      ]
    },
    {
      "cell_type": "code",
      "metadata": {
        "id": "JkkGDGjDiusl",
        "colab_type": "code",
        "colab": {
          "base_uri": "https://localhost:8080/",
          "height": 34
        },
        "outputId": "a68c9f3d-f019-4a01-9c89-028b65b58ac6"
      },
      "source": [
        "class Person():\n",
        "  def __init__(self, name):\n",
        "    self.name = name\n",
        "class EmailPerson(Person):\n",
        "  def __init__(self, name, email):\n",
        "    super().__init__(name)\n",
        "    self.email = email\n",
        "\n",
        "email_person = EmailPerson('Ko', 'goj609@gmail.com')\n",
        "\n",
        "print('name :', email_person.name, ',', 'email :', email_person.email)"
      ],
      "execution_count": 6,
      "outputs": [
        {
          "output_type": "stream",
          "text": [
            "name : Ko , email : goj609@gmail.com\n"
          ],
          "name": "stdout"
        }
      ]
    },
    {
      "cell_type": "markdown",
      "metadata": {
        "id": "HCaDGW_vjWN9",
        "colab_type": "text"
      },
      "source": [
        "- 왜 굳이 'super()'를 사용했을까?"
      ]
    },
    {
      "cell_type": "code",
      "metadata": {
        "id": "CzROkk8ijct2",
        "colab_type": "code",
        "colab": {
          "base_uri": "https://localhost:8080/",
          "height": 51
        },
        "outputId": "cafbf06f-32eb-4b06-ffb6-db96b63683ed"
      },
      "source": [
        "class Parent():\n",
        "  def __init__(self, value):\n",
        "    self.value = 1 * 2 * 3 * 4 * 5 * value\n",
        "class ChildA(Parent):\n",
        "  def __init__(self, value):\n",
        "    super().__init__(value)\n",
        "  def print_result(self):\n",
        "    print('result :', self.value)\n",
        "class ChildB(Parent):\n",
        "  def __init__(self, value):\n",
        "    self.value = 1 * 2 * 3 * 4 * 5 * value\n",
        "  def print_result(self):\n",
        "    print('result :', self.value)\n",
        "\n",
        "child_a = ChildA(6)\n",
        "child_a.print_result()\n",
        "\n",
        "child_b = ChildB(6)\n",
        "child_b.print_result()"
      ],
      "execution_count": 22,
      "outputs": [
        {
          "output_type": "stream",
          "text": [
            "result : 726\n",
            "result : 720\n"
          ],
          "name": "stdout"
        }
      ]
    },
    {
      "cell_type": "markdown",
      "metadata": {
        "id": "BxC_1Tjil-Ne",
        "colab_type": "text"
      },
      "source": [
        "- 상속을 사용할 수 없게 된다. (재사용성을 높이기 위해 상속을 사용하는 의미가 없어진다.)\n",
        "- 부모 클래스의 정의가 변경되면 상속받는 자식 클래스의 속성과 메서드에 변경사항이 반영된다."
      ]
    },
    {
      "cell_type": "markdown",
      "metadata": {
        "id": "Uviib_AvqcYw",
        "colab_type": "text"
      },
      "source": [
        "#6.7 자신:self\n",
        "- '공백' 이외에 또다른 파이썬은 단점은 인스턴스 메서드의 첫번째 인자로 'self'를 포함해야 하는 것이다."
      ]
    },
    {
      "cell_type": "code",
      "metadata": {
        "id": "pkb06ywYqmpt",
        "colab_type": "code",
        "colab": {}
      },
      "source": [
        "class Car():\n",
        "  def exclaim(self):\n",
        "    print(\"I'm a Car!\")"
      ],
      "execution_count": null,
      "outputs": []
    },
    {
      "cell_type": "markdown",
      "metadata": {
        "id": "ei3QOM5yqzdX",
        "colab_type": "text"
      },
      "source": [
        "1. car 객체의 Car 클래스를 찾는다.\n",
        "2. car 객체를 Car 클래스에 정의된 exclaim() 메서드의 self 매개변수에 전달한다.\n",
        "- 즉, Car.exclaim(car) 와 똑같이 동작한다."
      ]
    },
    {
      "cell_type": "markdown",
      "metadata": {
        "id": "4_JryfyVrFfW",
        "colab_type": "text"
      },
      "source": [
        "#6.8 get/set 속성값과 프로퍼티\n",
        "- 어떤 객체 지향 언어(e.g. Java)에서는 외부에서 바로 접근 할 수 없는 'private' 속성을 지원하며, 이 속성의 값을 읽고/쓰기 위해 getter/setter 메서드를 사용한다.\n",
        "- 파이썬에서는 모든 것이 public 이기 때문에 일반적으로 쉽게 사용 가능하지만, 직접 접근이 부담스러울 경우에는 마찬가지로 getter/setter 를 사용한다.\n",
        "- 다만, 조금 더 파이써닉하게 'property'를 사용하자."
      ]
    },
    {
      "cell_type": "code",
      "metadata": {
        "id": "toNDzDAvrtb0",
        "colab_type": "code",
        "colab": {
          "base_uri": "https://localhost:8080/",
          "height": 120
        },
        "outputId": "68108f6c-6cb0-4c25-ac50-cb67b1313ced"
      },
      "source": [
        "class Duck():\n",
        "  def __init__(self, input_name):\n",
        "    self.hidden_name = input_name\n",
        "  def get_name(self):\n",
        "    print('inside the getter')\n",
        "    return self.hidden_name\n",
        "  def set_name(self, input_name):\n",
        "    print('inside the setter')\n",
        "    self.hidden_name = input_name\n",
        "  name = property(get_name, set_name) # Case 3\n",
        "\n",
        "donald = Duck('')\n",
        "# Case 1\n",
        "# donald.name = 'donald'\n",
        "# donald.name\n",
        "\n",
        "# Case 2\n",
        "# donald.set_name(\"donald\")\n",
        "# donald.get_name()\n",
        "\n",
        "# Case 3\n",
        "# donald.name = 'donald'\n",
        "# donald.name"
      ],
      "execution_count": 32,
      "outputs": [
        {
          "output_type": "stream",
          "text": [
            "Case #1\n",
            "donald\n",
            "Case #2\n",
            "inside the setter\n",
            "inside the getter\n"
          ],
          "name": "stdout"
        },
        {
          "output_type": "execute_result",
          "data": {
            "application/vnd.google.colaboratory.intrinsic": {
              "type": "string"
            },
            "text/plain": [
              "'donald'"
            ]
          },
          "metadata": {
            "tags": []
          },
          "execution_count": 32
        }
      ]
    },
    {
      "cell_type": "markdown",
      "metadata": {
        "id": "lwvWG7V4twK4",
        "colab_type": "text"
      },
      "source": [
        "- 또 다른 방법은 '데커레이터'를 사용하는 것이다.\n",
        "1. getter 메서드 앞에 @property 데커레이터를 쓴다.\n",
        "2. setter 메서드 앞에 @{attribute}.setter 데커레이터를 쓴다."
      ]
    },
    {
      "cell_type": "code",
      "metadata": {
        "id": "vjp7ISGGtzWT",
        "colab_type": "code",
        "colab": {
          "base_uri": "https://localhost:8080/",
          "height": 215
        },
        "outputId": "96d18b42-c5db-4a90-8e36-d6fec13b1648"
      },
      "source": [
        "class Duck():\n",
        "  def __init__(self, input_name):\n",
        "    self.hidden_name = input_name\n",
        "  @property\n",
        "  def name(self):\n",
        "    print('inside the getter')\n",
        "    return self.hidden_name\n",
        "  # @name.setter\n",
        "  # def name(self, input_name):\n",
        "  #   print('inside the setter')\n",
        "  #   self.hidden_name = input_name\n",
        "\n",
        "donald = Duck('')\n",
        "donald.name = 'donald'\n",
        "donald.name"
      ],
      "execution_count": 35,
      "outputs": [
        {
          "output_type": "error",
          "ename": "AttributeError",
          "evalue": "ignored",
          "traceback": [
            "\u001b[0;31m---------------------------------------------------------------------------\u001b[0m",
            "\u001b[0;31mAttributeError\u001b[0m                            Traceback (most recent call last)",
            "\u001b[0;32m<ipython-input-35-517a53616e43>\u001b[0m in \u001b[0;36m<module>\u001b[0;34m()\u001b[0m\n\u001b[1;32m     18\u001b[0m \u001b[0;34m\u001b[0m\u001b[0m\n\u001b[1;32m     19\u001b[0m \u001b[0;31m# Case 2\u001b[0m\u001b[0;34m\u001b[0m\u001b[0;34m\u001b[0m\u001b[0;34m\u001b[0m\u001b[0m\n\u001b[0;32m---> 20\u001b[0;31m \u001b[0mdonald\u001b[0m\u001b[0;34m.\u001b[0m\u001b[0mname\u001b[0m \u001b[0;34m=\u001b[0m \u001b[0;34m'donald'\u001b[0m\u001b[0;34m\u001b[0m\u001b[0;34m\u001b[0m\u001b[0m\n\u001b[0m\u001b[1;32m     21\u001b[0m \u001b[0mdonald\u001b[0m\u001b[0;34m.\u001b[0m\u001b[0mname\u001b[0m\u001b[0;34m\u001b[0m\u001b[0;34m\u001b[0m\u001b[0m\n",
            "\u001b[0;31mAttributeError\u001b[0m: can't set attribute"
          ]
        }
      ]
    },
    {
      "cell_type": "markdown",
      "metadata": {
        "id": "cjhCpNRvuv0I",
        "colab_type": "text"
      },
      "source": [
        "- 속성에 직접접근 하는 것보다 property 를 통해 접근하면 속성의 정의를 변경해야 할 때 모든 호출자를 수정할 필요 없이 클래스 정의에 있는 코드만 수정하면 된다."
      ]
    },
    {
      "cell_type": "markdown",
      "metadata": {
        "id": "PedWIyXZu58X",
        "colab_type": "text"
      },
      "source": [
        "#6.9 private 네임 맹글링\n",
        "- 하지만, Duck 클래스의 속성 hidden_name 은 여전히 호출 가능하다.\n",
        "- 파이썬은 클래스 정의 외부에서 볼 수 없도록 하는 속성에 대한 naming convention 이 있는데, 바로 속성 앞에 더블 언더스코어(\\_ \\_)를 붙이는 것이다. (맹글링)"
      ]
    },
    {
      "cell_type": "code",
      "metadata": {
        "id": "3mixPnRfvSJO",
        "colab_type": "code",
        "colab": {
          "base_uri": "https://localhost:8080/",
          "height": 69
        },
        "outputId": "0063bafd-6020-4af7-8279-3c1474a69fb6"
      },
      "source": [
        "class Duck():\n",
        "  def __init__(self, input_name):\n",
        "    self.__hidden_name = input_name\n",
        "  @property\n",
        "  def name(self):\n",
        "    print('inside the getter')\n",
        "    return self.__hidden_name\n",
        "  @name.setter\n",
        "  def name(self, input_name):\n",
        "    print('inside the setter')\n",
        "    self.__hidden_name = input_name\n",
        "\n",
        "donald = Duck('')\n",
        "donald.name = 'donald'\n",
        "donald.name\n",
        "\n",
        "# donald.__hidden_name\n",
        "\n",
        "# donald._Duck__hidden_name # 물론 완벽하게 막을 순 없지만..."
      ],
      "execution_count": 38,
      "outputs": [
        {
          "output_type": "stream",
          "text": [
            "inside the setter\n",
            "inside the getter\n"
          ],
          "name": "stdout"
        },
        {
          "output_type": "execute_result",
          "data": {
            "application/vnd.google.colaboratory.intrinsic": {
              "type": "string"
            },
            "text/plain": [
              "'donald'"
            ]
          },
          "metadata": {
            "tags": []
          },
          "execution_count": 38
        }
      ]
    },
    {
      "cell_type": "markdown",
      "metadata": {
        "id": "z0Q-U7erv5vh",
        "colab_type": "text"
      },
      "source": [
        "#6.10 메서드 타입\n",
        "- 어떤 속성과 메서드는 클래스 '자신'의 일부고, 어떤 것은 클래스로부터 생성된 '객체'의 일부다.\n",
        "1. **인스턴스 메서드(instance method)**\n",
        " - 클래스 정의에서 메서드의 첫번째 인자가 'self'인 메서드\n",
        "2. **클래스 메서드(class method)**\n",
        " - 클래스 전체(모든 객체)에 영향을 주는 메서드\n",
        " - @classmethod 데커레이터를 사용한다. \n",
        " - 첫번째 인자로 클래스 자신을 가리키는 'cls'를 사용한다."
      ]
    },
    {
      "cell_type": "code",
      "metadata": {
        "id": "9s6mlUWuwjiw",
        "colab_type": "code",
        "colab": {
          "base_uri": "https://localhost:8080/",
          "height": 34
        },
        "outputId": "b52091a6-fba0-4d7b-d401-ca2cec354225"
      },
      "source": [
        "class A():\n",
        "  count = 0\n",
        "  def __init__(self):\n",
        "    A.count += 1\n",
        "  def exclaim(self):\n",
        "    print(\"I'm an A!\")\n",
        "  @classmethod\n",
        "  def kids(cls):\n",
        "    print(\"A has\", cls.count, \"little objects.\")\n",
        "\n",
        "first_a  = A()\n",
        "second_a = A()\n",
        "third_a  = A()\n",
        "\n",
        "A.kids()"
      ],
      "execution_count": 41,
      "outputs": [
        {
          "output_type": "stream",
          "text": [
            "A has ' 3 ' little objects.\n"
          ],
          "name": "stdout"
        }
      ]
    },
    {
      "cell_type": "markdown",
      "metadata": {
        "id": "19U2wSOuxFxr",
        "colab_type": "text"
      },
      "source": [
        "#6.11 덕 타이핑\n",
        "- 파이썬은 '다형성(polymorphism)'을 느슨하게 구현했다.\n",
        "- 이는 클래스에 상관없이 같은 동작을 다른 객체에 적용할 수 있다는 것을 의미한다."
      ]
    },
    {
      "cell_type": "code",
      "metadata": {
        "id": "FXMINdlVxX3w",
        "colab_type": "code",
        "colab": {
          "base_uri": "https://localhost:8080/",
          "height": 68
        },
        "outputId": "caa6f76b-3fd2-4f71-f626-e2d986db8bcc"
      },
      "source": [
        "class Quote():\n",
        "  def __init__(self, person, words):\n",
        "    self.person = person\n",
        "    self.words  = words\n",
        "  def who(self):\n",
        "    return self.person\n",
        "  def says(self):\n",
        "    return self.words + '.'\n",
        "\n",
        "class QuestionQuote(Quote):\n",
        "  def says(self):\n",
        "    return self.words + '?'\n",
        "\n",
        "class ExclamationQuote(Quote):\n",
        "  def says(self):\n",
        "    return self.words + '!'\n",
        "\n",
        "hunter = Quote('Ko', \"I'm hunting rabbits\")\n",
        "print(hunter.who(), 'says:', hunter.says())\n",
        "\n",
        "hunted1 = QuestionQuote('Bugs Bunny', \"What's up, doc\")\n",
        "print(hunted1.who(), 'says:', hunted1.says())\n",
        "\n",
        "hunted2 = ExclamationQuote('Donald Duck', \"It's rabbit season\")\n",
        "print(hunted2.who(), 'says:', hunted2.says())"
      ],
      "execution_count": 42,
      "outputs": [
        {
          "output_type": "stream",
          "text": [
            "Ko says: I'm hunting rabbits.\n",
            "Bugs Bunny says: What's up, doc?\n",
            "Donald Duck says: It's rabbit season!\n"
          ],
          "name": "stdout"
        }
      ]
    },
    {
      "cell_type": "markdown",
      "metadata": {
        "id": "E3NkPNHNydPe",
        "colab_type": "text"
      },
      "source": [
        "- 세 개의 서로 다른 says() 메서드는 세 클래스(각각 다른 타입)에 대해 서로 다른 동작을 제공한다.(다형성의 특징)\n",
        "- 파이썬은 who()와 says() 메서드를 가진 모든 객체에서 이 메서드들을 실행할 수 있게 해준다."
      ]
    },
    {
      "cell_type": "code",
      "metadata": {
        "id": "YE8ObwP5zFad",
        "colab_type": "code",
        "colab": {
          "base_uri": "https://localhost:8080/",
          "height": 85
        },
        "outputId": "1e781c47-5fdf-4d09-889e-da463fdfb019"
      },
      "source": [
        "class Hello():\n",
        "  def who(self):\n",
        "    return 'Ko'\n",
        "  def says(self):\n",
        "    return 'Hello!'\n",
        "\n",
        "def who_says(obj):\n",
        "  print(obj.who(), 'says:', obj.says()) # obj 의 타입이 뭔 줄 알고 who(), says() 메서드를 호출하는 것일까?\n",
        "\n",
        "ko = Hello()\n",
        "\n",
        "who_says(hunter)\n",
        "who_says(hunted1)\n",
        "who_says(hunted2)\n",
        "who_says(ko)"
      ],
      "execution_count": 44,
      "outputs": [
        {
          "output_type": "stream",
          "text": [
            "Ko says: I'm hunting rabbits.\n",
            "Bugs Bunny says: What's up, doc?\n",
            "Donald Duck says: It's rabbit season!\n",
            "Ko says: Hello!\n"
          ],
          "name": "stdout"
        }
      ]
    },
    {
      "cell_type": "markdown",
      "metadata": {
        "id": "WIg-MNowzwu8",
        "colab_type": "text"
      },
      "source": [
        "- 덕 타이핑: 오리처럼 꽥꽥거리고 걷는다면, 그것은 오리다."
      ]
    },
    {
      "cell_type": "markdown",
      "metadata": {
        "id": "3BX-wDIlz3iW",
        "colab_type": "text"
      },
      "source": [
        "#6.12 특수 메서드\n",
        "- 파이썬의 특수 메서드(더블 언더스코어로 시작)를 사용하면 연산자를 사용할 수 있다."
      ]
    },
    {
      "cell_type": "code",
      "metadata": {
        "id": "YEiDMPkg0P_c",
        "colab_type": "code",
        "colab": {
          "base_uri": "https://localhost:8080/",
          "height": 51
        },
        "outputId": "0310f0a3-d325-4ed3-fea0-05d190101c5d"
      },
      "source": [
        "class Word():\n",
        "  def __init__(self, text):\n",
        "    self.text = text\n",
        "  def equals(self, word2):\n",
        "    return self.text.lower() == word2.text.lower()\n",
        "  # def __eq__(self, word2):\n",
        "  #   return self.text.lower() == word2.text.lower()\n",
        "\n",
        "first  = Word('ha')\n",
        "second = Word('HA')\n",
        "third  = Word('eh')\n",
        "\n",
        "print(first.equals(second))\n",
        "print(first.equals(third))\n",
        "\n",
        "# print(first == second)\n",
        "# print(first == third)"
      ],
      "execution_count": 48,
      "outputs": [
        {
          "output_type": "stream",
          "text": [
            "True\n",
            "False\n"
          ],
          "name": "stdout"
        }
      ]
    },
    {
      "cell_type": "markdown",
      "metadata": {
        "id": "CppnsQWC0428",
        "colab_type": "text"
      },
      "source": [
        "#6.13 컴포지션\n",
        "- 자식 클래스가 부모 클래스처럼 행동하고 싶을 때, 상속은 좋은 기술이다.(자식 Is-A 부모)\n",
        "- 하지만 때로는 '컴포지션(composition)' 또는 '어그리게이션(aggregation)'이 더 적절한 경우가 있다.(X Has-A Y)"
      ]
    },
    {
      "cell_type": "code",
      "metadata": {
        "id": "ZYJK4fRC1RkS",
        "colab_type": "code",
        "colab": {}
      },
      "source": [
        "class Info:\n",
        "  pass\n",
        "\n",
        "# Composition\n",
        "class Member():\n",
        "  def __init__(self):\n",
        "    self.info = Info()\n",
        "member = Member()\n",
        "\n",
        "# Aggregation\n",
        "class Member():\n",
        "  def __init__(self, info):\n",
        "    self.info = info\n",
        "info   = Info()\n",
        "member = Member(info)"
      ],
      "execution_count": 49,
      "outputs": []
    },
    {
      "cell_type": "markdown",
      "metadata": {
        "id": "AxdcQYNY2B59",
        "colab_type": "text"
      },
      "source": [
        "#6.14 클래스와 객체, 그리고 모듈은 언제 사용할까?\n",
        "- 비슷한 행동을 하지만, 내부 상태가 다른 개별 인스턴스가 필요 할 때(객체)\n",
        "- 클래스는 상속을 지원하지만 모듈은 상속을 지원하지 않는다.\n",
        "- 어떤 한 가지 일만 수행할 때(모듈)\n",
        "- 여러 함수에 인자로 전달될 수 있는 여러 값을 포함한 여러 변수가 있을 때(클래스)\n",
        "- 가장 간단한 문제 해결 방법을 사용한다. (딕셔너리, 리스트, 튜플 < 모듈 < 클래스)\n",
        "- 자료 구조를 과하게 쓰지 않기 위해 때로는 객체보다 나은 '네임드 튜플'을 써라.\n",
        "\n",
        "#6.14.1 네임드 튜플\n",
        "- '튜플'의 '서브 클래스'\n",
        "- 이름(.name)과 위치([offset])로 값에 접근할 수 있다."
      ]
    },
    {
      "cell_type": "code",
      "metadata": {
        "id": "xV4nCO0B3GDY",
        "colab_type": "code",
        "colab": {
          "base_uri": "https://localhost:8080/",
          "height": 102
        },
        "outputId": "d4179dc2-c695-4bca-a301-4eb3c0616840"
      },
      "source": [
        "from collections import namedtuple\n",
        "\n",
        "Duck = namedtuple('Duck', 'bill tail')\n",
        "\n",
        "duck = Duck('wide orange', 'long')\n",
        "\n",
        "print(duck)\n",
        "print('bill :', duck.bill, ', tail :', duck.tail)\n",
        "\n",
        "parts = {'bill': 'blue', 'tail': 'short'}\n",
        "duck2 = Duck(**parts) # keyword arguments\n",
        "print(duck2)\n",
        "\n",
        "# 네임드 튜플은 불현하지만 필드를 바꿔서 또 다른 네임드 튜플을 반환할 수 있다.\n",
        "duck3 = duck._replace(tail='magnificent', bill='crushing')\n",
        "print(duck3)\n",
        "print(duck2)"
      ],
      "execution_count": 54,
      "outputs": [
        {
          "output_type": "stream",
          "text": [
            "Duck(bill='wide orange', tail='long')\n",
            "bill : wide orange , tail : long\n",
            "Duck(bill='blue', tail='short')\n",
            "Duck(bill='crushing', tail='magnificent')\n",
            "Duck(bill='blue', tail='short')\n"
          ],
          "name": "stdout"
        }
      ]
    },
    {
      "cell_type": "markdown",
      "metadata": {
        "id": "v0R-ReQQ4Isc",
        "colab_type": "text"
      },
      "source": [
        "* 네임드 튜플의 특징\n",
        " - 불변하는 객체처럼 행동한다.\n",
        " - 객체보다 공간/시간 효율성이 더 좋다.\n",
        " - 딕셔너리 형식의 괄호([]) 대신, 점(.) 표기법으로 속성에 접근할 수 있다.\n",
        " - 딕셔너리의 키처럼 쓸 수 있다. "
      ]
    }
  ]
}