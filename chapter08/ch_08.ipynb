{
 "cells": [
  {
   "cell_type": "markdown",
   "metadata": {
    "jupyter": {
     "outputs_hidden": false
    },
    "pycharm": {
     "name": "#%% md\n"
    }
   },
   "source": [
    "# **8장 흘러가는 데이터**\n",
    "\n",
    "<br>\n",
    "\n",
    "## **8.1 파일입출력**\n",
    "\n",
    "파일을 읽고 쓰기 전에 **파일 열기**\\\n",
    "`fileobj = open(filename, mode)`\n",
    "* `fileobj` : open() 에 의해 반환되는 파일 객체\n",
    "* `filename` : 파일의 문자열 이름\n",
    "* `mode` : 파일 타입과 파일로 무엇을 할지 명시하는 문자열\n",
    "\n",
    "`mode` 의 첫 글자는 **작업**을 명시\n",
    "* r : 파일 읽기\n",
    "* w : 파일 쓰기 (파일 존재하지 않으면 파일 생성, 존재하면 덮어쓴다)\n",
    "* x : 파일 쓰기 (파일이 존재하지 않을 경우만)\n",
    "* a : 파일이 존재하면 파일의 끝에서부터 쓴다)\n",
    "\n",
    "`mode` 의 두번째 글자는 파일 타입을 명시\n",
    "* t(또는 아무것도 명시하지 않음) : 텍스트 타입\n",
    "* b : 이진(binary) 타입\n",
    "\n",
    "<br>\n",
    "\n",
    "## **8.1.1 텍스트 파일 쓰기 : write()**"
   ]
  },
  {
   "cell_type": "code",
   "execution_count": 1,
   "metadata": {
    "pycharm": {
     "name": "#%%\n"
    }
   },
   "outputs": [
    {
     "name": "stdout",
     "output_type": "stream",
     "text": [
      "11\n"
     ]
    }
   ],
   "source": [
    "sample_content1 = '''12345\n",
    "abcde'''\n",
    "\n",
    "fout = open('sample_file_write.txt', 'wt')\n",
    "file_byte_length = fout.write(sample_content1)\n",
    "fout.close()\n",
    "print(file_byte_length)"
   ]
  },
  {
   "cell_type": "markdown",
   "metadata": {
    "jupyter": {
     "outputs_hidden": false
    },
    "pycharm": {
     "name": "#%% md\n"
    }
   },
   "source": [
    "<br>\n",
    "\n",
    "#### **print()** 함수로 텍스트 파일 생성하기\n",
    "* sep : 구분자, 기본값은 ' '\n",
    "* end : 문자열 끝, 기본값은 '\\n'"
   ]
  },
  {
   "cell_type": "code",
   "execution_count": 7,
   "metadata": {
    "pycharm": {
     "name": "#%%\n"
    }
   },
   "outputs": [],
   "source": [
    "sample_content1 = '''12345\n",
    "abcde'''\n",
    "\n",
    "sample_content2 = '''가나다라마바사\n",
    "아자차카타파하'''\n",
    "\n",
    "fout = open('sample_file_print.txt', 'wt')\n",
    "print(sample_content1, sample_content2, file=fout)\n",
    "fout.close()\n",
    "\n",
    "\n",
    "fout = open('sample_file_print_kwargs.txt', 'wt')\n",
    "print(sample_content1, sample_content2, file=fout, sep=\"@\\n\", end='!')\n",
    "fout.close()"
   ]
  },
  {
   "cell_type": "markdown",
   "metadata": {
    "jupyter": {
     "outputs_hidden": false
    },
    "pycharm": {
     "name": "#%% md\n"
    }
   },
   "source": [
    "<br>\n",
    "\n",
    "## **8.1.2 텍스트 파일 읽기**\n",
    "\n",
    "#### **read()** 함수로 전체파일 읽기 - 큰 파일 읽을때 주의 필요\n"
   ]
  },
  {
   "cell_type": "code",
   "execution_count": 3,
   "metadata": {
    "pycharm": {
     "name": "#%%\n"
    }
   },
   "outputs": [
    {
     "name": "stdout",
     "output_type": "stream",
     "text": [
      "12345\n",
      "abcde 가나다라마바사\n",
      "아자차카타파하\n",
      "\n"
     ]
    }
   ],
   "source": [
    "fin = open(\"sample_file_print.txt\", 'rt')\n",
    "contents = fin.read()\n",
    "fin.close()\n",
    "print(contents)"
   ]
  },
  {
   "cell_type": "markdown",
   "metadata": {
    "jupyter": {
     "outputs_hidden": false
    },
    "pycharm": {
     "name": "#%% md\n"
    }
   },
   "source": [
    "<br>\n",
    "\n",
    "#### **read(chunk)** - 한번에 읽을 문자수를 chunk 길이만큼 제한"
   ]
  },
  {
   "cell_type": "code",
   "execution_count": 6,
   "metadata": {
    "pycharm": {
     "name": "#%%\n"
    }
   },
   "outputs": [
    {
     "name": "stdout",
     "output_type": "stream",
     "text": [
      "loop 1 : 12345\n",
      "abcd\n",
      "loop 2 : e 가나다라마바사\n",
      "\n",
      "loop 3 : 아자차카타파하\n",
      "\n",
      "\n",
      "-----content\n",
      " 12345\n",
      "abcde 가나다라마바사\n",
      "아자차카타파하\n",
      "\n"
     ]
    }
   ],
   "source": [
    "fin = open(\"sample_file_print.txt\", 'rt')\n",
    "\n",
    "content = ''\n",
    "chunk = 10\n",
    "loop = 1\n",
    "while True:\n",
    "    fragment = fin.read(chunk)\n",
    "    # 파이썬에서 빈문자열이 조건식에 쓰일 경우 False인 점을 이용\n",
    "    if not fragment:\n",
    "        break\n",
    "    print('loop',loop, ':', fragment)\n",
    "    content += fragment\n",
    "    loop += 1\n",
    "\n",
    "fin.close()\n",
    "print('\\n-----content\\n', content)"
   ]
  },
  {
   "cell_type": "markdown",
   "metadata": {
    "jupyter": {
     "outputs_hidden": false
    },
    "pycharm": {
     "name": "#%% md\n"
    }
   },
   "source": [
    "<br>\n",
    "\n",
    "#### **readline()** - 한 라인씩 읽기"
   ]
  },
  {
   "cell_type": "code",
   "execution_count": 5,
   "metadata": {
    "pycharm": {
     "name": "#%%\n"
    }
   },
   "outputs": [
    {
     "name": "stdout",
     "output_type": "stream",
     "text": [
      "line 1 : 12345\n",
      "\n",
      "line 2 : abcde@\n",
      "\n",
      "line 3 : 가나다라마바사\n",
      "\n",
      "line 4 : 아자차카타파하!\n",
      "\n",
      "----content\n",
      " 12345\n",
      "abcde@\n",
      "가나다라마바사\n",
      "아자차카타파하!\n"
     ]
    }
   ],
   "source": [
    "fin = open('sample_file_print_kwargs.txt', 'rt')\n",
    "\n",
    "content = ''\n",
    "line_num = 1\n",
    "while True:\n",
    "    line = fin.readline()\n",
    "    if not line:\n",
    "        break\n",
    "    content += line\n",
    "    print('line', line_num, ':', line)\n",
    "    line_num += 1\n",
    "\n",
    "fin.close()\n",
    "print('\\n----content\\n', content)"
   ]
  },
  {
   "cell_type": "markdown",
   "metadata": {
    "jupyter": {
     "outputs_hidden": false
    },
    "pycharm": {
     "name": "#%% md\n"
    }
   },
   "source": [
    "<br>\n",
    "\n",
    "#### **readlines()** - 모든 라인을 읽어 리스트 반환"
   ]
  },
  {
   "cell_type": "code",
   "execution_count": 4,
   "metadata": {
    "pycharm": {
     "name": "#%%\n"
    }
   },
   "outputs": [
    {
     "name": "stdout",
     "output_type": "stream",
     "text": [
      "lines: ['12345\\n', 'abcde@\\n', '가나다라마바사\\n', '아자차카타파하!']\n",
      "\n",
      "----content\n",
      " 12345\n",
      "abcde@\n",
      "가나다라마바사\n",
      "아자차카타파하!\n"
     ]
    }
   ],
   "source": [
    "fin = open('sample_file_print_kwargs.txt', 'rt')\n",
    "\n",
    "lines = fin.readlines()\n",
    "print('lines:',lines)\n",
    "\n",
    "content = ''\n",
    "for line in lines:\n",
    "    content += line\n",
    "\n",
    "print('\\n----content\\n', content)\n",
    "fin.close()"
   ]
  },
  {
   "cell_type": "markdown",
   "metadata": {
    "jupyter": {
     "outputs_hidden": false
    },
    "pycharm": {
     "name": "#%% md\n"
    }
   },
   "source": [
    "<br>\n",
    "\n",
    "#### **이터레이터** 활용"
   ]
  },
  {
   "cell_type": "code",
   "execution_count": 8,
   "metadata": {
    "pycharm": {
     "name": "#%%\n"
    }
   },
   "outputs": [
    {
     "name": "stdout",
     "output_type": "stream",
     "text": [
      "fin: <class '_io.TextIOWrapper'>\n",
      "\n",
      "----content\n",
      " 12345\n",
      "abcde@\n",
      "가나다라마바사\n",
      "아자차카타파하!\n"
     ]
    }
   ],
   "source": [
    "fin = open('sample_file_print_kwargs.txt', 'rt')\n",
    "\n",
    "print('fin:', type(fin))\n",
    "content = ''\n",
    "for line in fin:\n",
    "    content += line\n",
    "\n",
    "print('\\n----content\\n', content)\n",
    "fin.close()"
   ]
  },
  {
   "cell_type": "markdown",
   "metadata": {
    "jupyter": {
     "outputs_hidden": false
    },
    "pycharm": {
     "name": "#%% md\n"
    }
   },
   "source": [
    "<br>\n",
    "\n",
    "## **8.1.3 이진파일 읽기/쓰기**\n",
    "\n",
    "#### mode에 't' 대신 `'b'` 사용"
   ]
  },
  {
   "cell_type": "code",
   "execution_count": null,
   "metadata": {
    "collapsed": false,
    "jupyter": {
     "outputs_hidden": false
    },
    "pycharm": {
     "name": "#%%\n"
    }
   },
   "outputs": [],
   "source": [
    "# 이진 데이터 생성\n",
    "bdata = bytes(range(0, 256))\n",
    "print('bdata:',bdata, '\\n')\n",
    "print('len of bdata:',len(bdata))"
   ]
  },
  {
   "cell_type": "code",
   "execution_count": null,
   "metadata": {
    "collapsed": false,
    "jupyter": {
     "outputs_hidden": false
    },
    "pycharm": {
     "name": "#%%\n"
    }
   },
   "outputs": [],
   "source": [
    "# 이진 데이터 쓰기\n",
    "fout = open('sample_bdata', 'wb')\n",
    "len = fout.write(bdata)\n",
    "print('writed len:', len, '\\n')\n",
    "fout.close()\n",
    "\n",
    "# 이진 데이터 읽기\n",
    "fin = open('sample_bdata', 'rb')\n",
    "raw_bdata = fin.read()\n",
    "print('raw_bdata:', raw_bdata, '\\n')\n",
    "fin.close()"
   ]
  },
  {
   "cell_type": "markdown",
   "metadata": {},
   "source": [
    "<br>\n",
    "\n",
    "## **8.1.5 자동으로 파일 닫기: with**"
   ]
  },
  {
   "cell_type": "markdown",
   "metadata": {},
   "source": [
    "#### 파일을 열고 닫는 작업을 context manager 에게 위임\n",
    "\n",
    "* #### `with` 표현식 `as` 변수"
   ]
  },
  {
   "cell_type": "code",
   "execution_count": null,
   "metadata": {
    "collapsed": false,
    "jupyter": {
     "outputs_hidden": false
    },
    "pycharm": {
     "name": "#%%\n"
    }
   },
   "outputs": [],
   "source": [
    "fout_plain = open('sample_bdata', 'rb')\n",
    "print('bdata_1:',fout_plain.read(), '\\n')\n",
    "\n",
    "with open(\"sample_bdata\", 'rb') as fout_manager:\n",
    "    print('bdata_2:',fout_manager.read(), '\\n')\n",
    "\n",
    "print('fout_plain is closed:', fout_plain.closed, '\\n')\n",
    "print('fout_manager is closed:', fout_manager.closed)\n",
    "\n",
    "fout_plain.close()"
   ]
  },
  {
   "cell_type": "markdown",
   "metadata": {},
   "source": [
    "<br>\n",
    "\n",
    "## **8.1.6 파일 위치 찾기**\n",
    "\n",
    "#### `tell()`: 파일의 **현재 오프셋**을 바이트 단위로 반환"
   ]
  },
  {
   "cell_type": "code",
   "execution_count": null,
   "metadata": {
    "collapsed": false,
    "jupyter": {
     "outputs_hidden": false
    },
    "pycharm": {
     "name": "#%%\n"
    }
   },
   "outputs": [],
   "source": [
    "with open('sample_bdata', 'rb') as fout:\n",
    "    print('curr_offset:', fout.tell())\n",
    "    fout.seek(255)\n",
    "    print('curr_offset:', fout.tell())\n",
    "    print('bdata:', fout.read())"
   ]
  },
  {
   "cell_type": "markdown",
   "metadata": {},
   "source": [
    "<br>\n",
    "\n",
    "#### `seek(offset, origin)`: 파일을 특정 바이트 오프셋 위치로 **이동**\n",
    "* #### *origin* 0: 시작위치에서 *offset* 바이트 이후로 이동 (기본값)\n",
    "* #### *origin* 1: 현재위치 *offset* 바이트 이후로 이동\n",
    "* #### *origin* 2: 마지막위치에서 *offset* 바이트 위치로 이동"
   ]
  },
  {
   "cell_type": "code",
   "execution_count": null,
   "metadata": {
    "collapsed": false,
    "jupyter": {
     "outputs_hidden": false
    },
    "pycharm": {
     "name": "#%%\n"
    }
   },
   "outputs": [],
   "source": [
    "with open('sample_bdata', 'rb') as fout:\n",
    "    print('curr_offset:', fout.tell())\n",
    "    fout.seek(-1, 2)\n",
    "    print('curr_offset:', fout.tell())\n",
    "    print('bdata:', fout.read())"
   ]
  },
  {
   "cell_type": "markdown",
   "metadata": {},
   "source": [
    "<br>\n",
    "\n",
    "## **8.2 구조화된 텍스트파일**\n",
    "\n",
    "<br>\n",
    "\n",
    "## **8.2.1 CSV**"
   ]
  },
  {
   "cell_type": "code",
   "execution_count": null,
   "outputs": [],
   "source": [],
   "metadata": {
    "collapsed": false,
    "pycharm": {
     "name": "#%%\n"
    }
   }
  },
  {
   "cell_type": "code",
   "execution_count": null,
   "metadata": {},
   "outputs": [],
   "source": []
  }
 ],
 "metadata": {
  "kernelspec": {
   "display_name": "Python 3",
   "language": "python",
   "name": "python3"
  },
  "language_info": {
   "codemirror_mode": {
    "name": "ipython",
    "version": 3
   },
   "file_extension": ".py",
   "mimetype": "text/x-python",
   "name": "python",
   "nbconvert_exporter": "python",
   "pygments_lexer": "ipython3",
   "version": "3.7.6"
  }
 },
 "nbformat": 4,
 "nbformat_minor": 4
}