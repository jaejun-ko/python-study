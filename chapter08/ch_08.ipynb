{
 "cells": [
  {
   "cell_type": "markdown",
   "metadata": {
    "jupyter": {
     "outputs_hidden": false
    },
    "pycharm": {
     "name": "#%% md\n"
    }
   },
   "source": [
    "# **8장 흘러가는 데이터**\n",
    "\n",
    "<br>\n",
    "\n",
    "## **8.1 파일입출력**\n",
    "\n",
    "파일을 읽고 쓰기 전에 **파일 열기**\\\n",
    "`fileobj = open(filename, mode)`\n",
    "* `fileobj` : open() 에 의해 반환되는 파일 객체\n",
    "* `filename` : 파일의 문자열 이름\n",
    "* `mode` : 파일 타입과 파일로 무엇을 할지 명시하는 문자열\n",
    "\n",
    "`mode` 의 첫 글자는 **작업**을 명시\n",
    "* r : 파일 읽기\n",
    "* w : 파일 쓰기 (파일 존재하지 않으면 파일 생성, 존재하면 덮어쓴다)\n",
    "* x : 파일 쓰기 (파일이 존재하지 않을 경우만)\n",
    "* a : 파일이 존재하면 파일의 끝에서부터 쓴다)\n",
    "\n",
    "`mode` 의 두번째 글자는 파일 타입을 명시\n",
    "* t(또는 아무것도 명시하지 않음) : 텍스트 타입\n",
    "* b : 이진(binary) 타입\n",
    "\n",
    "<br>\n",
    "\n",
    "## **8.1.1 텍스트 파일 쓰기 : write()**"
   ]
  },
  {
   "cell_type": "code",
   "execution_count": null,
   "metadata": {
    "pycharm": {
     "name": "#%%\n"
    }
   },
   "outputs": [],
   "source": [
    "from typing import Any\n",
    "sample_content1 = '''12345\n",
    "abcde'''\n",
    "\n",
    "fout = open('sample_file_write.txt', 'wt')\n",
    "file_byte_length = fout.write(sample_content1)\n",
    "fout.close()\n",
    "print(file_byte_length)"
   ]
  },
  {
   "cell_type": "markdown",
   "metadata": {
    "jupyter": {
     "outputs_hidden": false
    },
    "pycharm": {
     "name": "#%% md\n"
    }
   },
   "source": [
    "<br>\n",
    "\n",
    "#### **print()** 함수로 텍스트 파일 생성하기\n",
    "* sep : 구분자, 기본값은 ' '\n",
    "* end : 문자열 끝, 기본값은 '\\n'"
   ]
  },
  {
   "cell_type": "code",
   "execution_count": null,
   "metadata": {
    "pycharm": {
     "name": "#%%\n"
    }
   },
   "outputs": [],
   "source": [
    "sample_content1 = '''12345\n",
    "abcde'''\n",
    "\n",
    "sample_content2 = '''가나다라마바사\n",
    "아자차카타파하'''\n",
    "\n",
    "fout = open('sample_file_print.txt', 'wt')\n",
    "print(sample_content1, sample_content2, file=fout)\n",
    "fout.close()\n",
    "\n",
    "\n",
    "fout = open('sample_file_print_kwargs.txt', 'wt')\n",
    "print(sample_content1, sample_content2, file=fout, sep=\"@\\n\", end='!')\n",
    "fout.close()"
   ]
  },
  {
   "cell_type": "markdown",
   "metadata": {
    "jupyter": {
     "outputs_hidden": false
    },
    "pycharm": {
     "name": "#%% md\n"
    }
   },
   "source": [
    "<br>\n",
    "\n",
    "## **8.1.2 텍스트 파일 읽기**\n",
    "\n",
    "#### **read()** 함수로 전체파일 읽기 - 큰 파일 읽을때 주의 필요\n"
   ]
  },
  {
   "cell_type": "code",
   "execution_count": null,
   "metadata": {
    "pycharm": {
     "name": "#%%\n"
    }
   },
   "outputs": [],
   "source": [
    "fin = open(\"sample_file_print.txt\", 'rt')\n",
    "contents = fin.read()\n",
    "fin.close()\n",
    "print(contents)"
   ]
  },
  {
   "cell_type": "markdown",
   "metadata": {
    "jupyter": {
     "outputs_hidden": false
    },
    "pycharm": {
     "name": "#%% md\n"
    }
   },
   "source": [
    "<br>\n",
    "\n",
    "#### **read(chunk)** - 한번에 읽을 문자수를 chunk 길이만큼 제한"
   ]
  },
  {
   "cell_type": "code",
   "execution_count": null,
   "metadata": {
    "pycharm": {
     "name": "#%%\n"
    }
   },
   "outputs": [],
   "source": [
    "fin = open(\"sample_file_print.txt\", 'rt')\n",
    "\n",
    "content = ''\n",
    "chunk = 10\n",
    "loop = 1\n",
    "while True:\n",
    "    fragment = fin.read(chunk)\n",
    "    # 파이썬에서 빈문자열이 조건식에 쓰일 경우 False인 점을 이용\n",
    "    if not fragment:\n",
    "        break\n",
    "    print('loop',loop, ':', fragment)\n",
    "    content += fragment\n",
    "    loop += 1\n",
    "\n",
    "fin.close()\n",
    "print('\\n-----content\\n', content)"
   ]
  },
  {
   "cell_type": "markdown",
   "metadata": {
    "jupyter": {
     "outputs_hidden": false
    },
    "pycharm": {
     "name": "#%% md\n"
    }
   },
   "source": [
    "<br>\n",
    "\n",
    "#### **readline()** - 한 라인씩 읽기"
   ]
  },
  {
   "cell_type": "code",
   "execution_count": null,
   "metadata": {
    "pycharm": {
     "name": "#%%\n"
    }
   },
   "outputs": [],
   "source": [
    "fin = open('sample_file_print_kwargs.txt', 'rt')\n",
    "\n",
    "content = ''\n",
    "line_num = 1\n",
    "while True:\n",
    "    line = fin.readline()\n",
    "    if not line:\n",
    "        break\n",
    "    content += line\n",
    "    print('line', line_num, ':', line)\n",
    "    line_num += 1\n",
    "\n",
    "fin.close()\n",
    "print('\\n----content\\n', content)"
   ]
  },
  {
   "cell_type": "markdown",
   "metadata": {
    "jupyter": {
     "outputs_hidden": false
    },
    "pycharm": {
     "name": "#%% md\n"
    }
   },
   "source": [
    "<br>\n",
    "\n",
    "#### **readlines()** - 모든 라인을 읽어 리스트 반환"
   ]
  },
  {
   "cell_type": "code",
   "execution_count": null,
   "metadata": {
    "pycharm": {
     "name": "#%%\n"
    }
   },
   "outputs": [],
   "source": [
    "fin = open('sample_file_print_kwargs.txt', 'rt')\n",
    "\n",
    "lines = fin.readlines()\n",
    "print('lines:',lines)\n",
    "\n",
    "content = ''\n",
    "for line in lines:\n",
    "    content += line\n",
    "\n",
    "print('\\n----content\\n', content)\n",
    "fin.close()"
   ]
  },
  {
   "cell_type": "markdown",
   "metadata": {
    "jupyter": {
     "outputs_hidden": false
    },
    "pycharm": {
     "name": "#%% md\n"
    }
   },
   "source": [
    "<br>\n",
    "\n",
    "#### **이터레이터** 활용"
   ]
  },
  {
   "cell_type": "code",
   "execution_count": null,
   "metadata": {
    "pycharm": {
     "name": "#%%\n"
    }
   },
   "outputs": [],
   "source": [
    "fin = open('sample_file_print_kwargs.txt', 'rt')\n",
    "\n",
    "print('fin:', type(fin))\n",
    "content = ''\n",
    "for line in fin:\n",
    "    content += line\n",
    "\n",
    "print('\\n----content\\n', content)\n",
    "fin.close()"
   ]
  },
  {
   "cell_type": "markdown",
   "metadata": {
    "jupyter": {
     "outputs_hidden": false
    },
    "pycharm": {
     "name": "#%% md\n"
    }
   },
   "source": [
    "<br>\n",
    "\n",
    "## **8.1.3 이진파일 읽기/쓰기**\n",
    "\n",
    "#### mode에 't' 대신 `'b'` 사용"
   ]
  },
  {
   "cell_type": "code",
   "execution_count": null,
   "metadata": {
    "collapsed": false,
    "jupyter": {
     "outputs_hidden": false
    },
    "pycharm": {
     "name": "#%%\n"
    }
   },
   "outputs": [],
   "source": [
    "# 이진 데이터 생성\n",
    "bdata = bytes(range(0, 256))\n",
    "print('bdata:',bdata, '\\n')\n",
    "print('len of bdata:',len(bdata))"
   ]
  },
  {
   "cell_type": "code",
   "execution_count": null,
   "metadata": {
    "collapsed": false,
    "jupyter": {
     "outputs_hidden": false
    },
    "pycharm": {
     "name": "#%%\n"
    }
   },
   "outputs": [],
   "source": [
    "# 이진 데이터 쓰기\n",
    "fout = open('sample_bdata', 'wb')\n",
    "len = fout.write(bdata)\n",
    "print('writed len:', len, '\\n')\n",
    "fout.close()\n",
    "\n",
    "# 이진 데이터 읽기\n",
    "fin = open('sample_bdata', 'rb')\n",
    "raw_bdata = fin.read()\n",
    "print('raw_bdata:', raw_bdata, '\\n')\n",
    "fin.close()"
   ]
  },
  {
   "cell_type": "markdown",
   "metadata": {},
   "source": [
    "<br>\n",
    "\n",
    "## **8.1.5 자동으로 파일 닫기: with**"
   ]
  },
  {
   "cell_type": "markdown",
   "metadata": {},
   "source": [
    "#### 파일을 열고 닫는 작업을 context manager 에게 위임\n",
    "\n",
    "* #### `with` 표현식 `as` 변수"
   ]
  },
  {
   "cell_type": "code",
   "execution_count": null,
   "metadata": {
    "collapsed": false,
    "jupyter": {
     "outputs_hidden": false
    },
    "pycharm": {
     "name": "#%%\n"
    }
   },
   "outputs": [],
   "source": [
    "fout_plain = open('sample_bdata', 'rb')\n",
    "print('bdata_1:',fout_plain.read(), '\\n')\n",
    "\n",
    "with open(\"sample_bdata\", 'rb') as fout_manager:\n",
    "    print('bdata_2:',fout_manager.read(), '\\n')\n",
    "\n",
    "print('fout_plain is closed:', fout_plain.closed, '\\n')\n",
    "print('fout_manager is closed:', fout_manager.closed)\n",
    "\n",
    "fout_plain.close()"
   ]
  },
  {
   "cell_type": "markdown",
   "metadata": {},
   "source": [
    "<br>\n",
    "\n",
    "## **8.1.6 파일 위치 찾기**\n",
    "\n",
    "#### `tell()`: 파일의 **현재 오프셋**을 바이트 단위로 반환"
   ]
  },
  {
   "cell_type": "code",
   "execution_count": null,
   "metadata": {
    "collapsed": false,
    "jupyter": {
     "outputs_hidden": false
    },
    "pycharm": {
     "name": "#%%\n"
    }
   },
   "outputs": [],
   "source": [
    "with open('sample_bdata', 'rb') as fout:\n",
    "    print('curr_offset:', fout.tell())\n",
    "    fout.seek(255)\n",
    "    print('curr_offset:', fout.tell())\n",
    "    print('bdata:', fout.read())"
   ]
  },
  {
   "cell_type": "markdown",
   "metadata": {},
   "source": [
    "<br>\n",
    "\n",
    "#### `seek(offset, origin)`: 파일을 특정 바이트 오프셋 위치로 **이동**\n",
    "* #### *origin* 0: 시작위치에서 *offset* 바이트 이후로 이동 (기본값)\n",
    "* #### *origin* 1: 현재위치 *offset* 바이트 이후로 이동\n",
    "* #### *origin* 2: 마지막위치에서 *offset* 바이트 위치로 이동"
   ]
  },
  {
   "cell_type": "code",
   "execution_count": null,
   "metadata": {
    "collapsed": false,
    "jupyter": {
     "outputs_hidden": false
    },
    "pycharm": {
     "name": "#%%\n"
    }
   },
   "outputs": [],
   "source": [
    "with open('sample_bdata', 'rb') as fout:\n",
    "    print('curr_offset:', fout.tell())\n",
    "    fout.seek(-1, 2)\n",
    "    print('curr_offset:', fout.tell())\n",
    "    print('bdata:', fout.read())"
   ]
  },
  {
   "cell_type": "markdown",
   "metadata": {},
   "source": [
    "<br>\n",
    "\n",
    "## **8.2 구조화된 텍스트파일**\n",
    "\n",
    "<br>\n",
    "\n",
    "## **8.2.1 CSV(Comma-Separated Values)**\n",
    "\n",
    "#### **표준 csv 모듈 사용하여 입출력**"
   ]
  },
  {
   "cell_type": "code",
   "execution_count": null,
   "metadata": {
    "pycharm": {
     "name": "#%%\n"
    }
   },
   "outputs": [],
   "source": [
    "import csv\n",
    "\n",
    "months = [\n",
    "    ['ONE', 1],\n",
    "    ['TWO', 2],\n",
    "    ['THREE', 3],\n",
    "    ['FOUR', 4],\n",
    "    ['FIVE', 5]\n",
    "]\n",
    "\n",
    "# csv 파일쓰기\n",
    "with open('months', 'wt') as fout:\n",
    "    csv_out = csv.writer(fout)\n",
    "    csv_out.writerows(months)\n",
    "\n",
    "# csv 파일읽기\n",
    "with open('months', 'rt') as fin:\n",
    "    csv_in = csv.reader(fin)\n",
    "    csv_to_list = [row for row in csv_in]\n",
    "\n",
    "print(\"csv_to_list:\", csv_to_list)"
   ]
  },
  {
   "cell_type": "markdown",
   "metadata": {
    "jupyter": {
     "outputs_hidden": false
    },
    "pycharm": {
     "name": "#%% md\n"
    }
   },
   "source": [
    "<br>\n",
    "\n",
    "#### `DictReader()`: 딕셔너리의 리스트로 데이터 생성"
   ]
  },
  {
   "cell_type": "code",
   "execution_count": null,
   "metadata": {
    "collapsed": false,
    "jupyter": {
     "outputs_hidden": false
    },
    "pycharm": {
     "name": "#%%\n"
    }
   },
   "outputs": [],
   "source": [
    "import csv\n",
    "with open('months', 'rt') as fin:\n",
    "    cin = csv.DictReader(fin, fieldnames=['NAME', 'NUM'])\n",
    "    csv_to_dict_list = [row for row in cin]\n",
    "    \n",
    "print('csv_to_dict_list', csv_to_dict_list)"
   ]
  },
  {
   "cell_type": "markdown",
   "metadata": {
    "pycharm": {
     "name": "#%% md\n"
    }
   },
   "source": [
    "<br>\n",
    "\n",
    "#### `DictWriter()`: 딕셔너리 데이터로 csv 파일 쓰기"
   ]
  },
  {
   "cell_type": "code",
   "execution_count": null,
   "metadata": {
    "collapsed": false,
    "jupyter": {
     "outputs_hidden": false
    },
    "pycharm": {
     "name": "#%%\n"
    }
   },
   "outputs": [],
   "source": [
    "import csv\n",
    "\n",
    "months = [\n",
    "    {'NAME': 'ONE', 'NUM': 1},\n",
    "    {'NAME': 'TWO', 'NUM': 2},\n",
    "    {'NAME': 'THREE', 'NUM': 3},\n",
    "    {'NAME': 'FOUR', 'NUM': 4},\n",
    "    {'NAME': 'FIVE', 'NUM': 5}\n",
    "]\n",
    "\n",
    "# csv 파일쓰기\n",
    "with open('months', 'wt') as fout:\n",
    "    csv_out = csv.DictWriter(fout, fieldnames=['NAME','NUM'])\n",
    "    # header 를 써주면 첫번째 라인에 헤더정보가 입력\n",
    "    csv_out.writeheader()  \n",
    "    csv_out.writerows(months)\n",
    "\n",
    "# csv 파일읽기\n",
    "with open('months', 'rt') as fin:\n",
    "    # fieldnames 인자를 제외할때 : 첫번째 라인 => 딕셔너리의 key로 사용된다 \n",
    "    csv_in = csv.DictReader(fin)\n",
    "#     csv_in = csv.DictReader(fin, fieldnames=['NAME','NUM'])\n",
    "    csv_to_dict_list = [row for row in csv_in]\n",
    "\n",
    "print(\"csv_to_list:\", csv_to_dict_list)"
   ]
  },
  {
   "cell_type": "markdown",
   "metadata": {
    "jupyter": {
     "outputs_hidden": false
    },
    "pycharm": {
     "name": "#%% md\n"
    }
   },
   "source": [
    "<br>\n",
    "\n",
    "## **8.2 XML**\n",
    "#### **`ElementTree` 모듈 사용**"
   ]
  },
  {
   "cell_type": "code",
   "execution_count": null,
   "metadata": {
    "collapsed": false,
    "jupyter": {
     "outputs_hidden": false
    },
    "pycharm": {
     "name": "#%%\n"
    }
   },
   "outputs": [],
   "source": [
    "from xml.etree import ElementTree as et\n",
    "\n",
    "books_tree = et.parse('books.xml')\n",
    "book_root = books_tree.getroot()\n",
    "print('root tag:', book_root.tag, '\\n')\n",
    "\n",
    "for child in book_root:\n",
    "    print(\"tag:\", child.tag, 'attributes', child.attrib, '\\n')"
   ]
  },
  {
   "cell_type": "code",
   "execution_count": null,
   "metadata": {
    "collapsed": false,
    "jupyter": {
     "outputs_hidden": false
    },
    "pycharm": {
     "name": "#%%\n"
    }
   },
   "outputs": [],
   "source": [
    "from xml.etree import ElementTree as et\n",
    "\n",
    "books_tree = et.parse('books.xml')\n",
    "book_root = books_tree.getroot()\n",
    "# offset 으로 접근 - 1번째 book의 genre 텍스트 얻어오기\n",
    "print('first book genre:', book_root[0][2].text, '\\n')"
   ]
  },
  {
   "cell_type": "code",
   "execution_count": null,
   "metadata": {
    "collapsed": false,
    "jupyter": {
     "outputs_hidden": false
    },
    "pycharm": {
     "name": "#%%\n"
    }
   },
   "outputs": [],
   "source": [
    "from xml.etree import ElementTree as et\n",
    "\n",
    "books_tree = et.parse('books.xml')\n",
    "book_root = books_tree.getroot()\n",
    "# 관심있는 element 탐색\n",
    "for genre in book_root.iter('genre'):\n",
    "    print(genre.text)"
   ]
  },
  {
   "cell_type": "code",
   "execution_count": null,
   "metadata": {
    "collapsed": false,
    "jupyter": {
     "outputs_hidden": false
    },
    "pycharm": {
     "name": "#%%\n"
    }
   },
   "outputs": [],
   "source": [
    "from xml.etree import ElementTree as et\n",
    "\n",
    "books_tree = et.parse('books.xml')\n",
    "book_root = books_tree.getroot()\n",
    "\n",
    "# 관심있는 element 탐색2\n",
    "book_list = []\n",
    "for book in book_root.findall('book'):\n",
    "    book_obj = {}\n",
    "    book_obj['book_id'] = book.attrib['id']\n",
    "    book_obj['title'] = book.find('title').text\n",
    "    book_obj['price'] = book.find('price').text\n",
    "    book_list.append(book_obj)\n",
    "\n",
    "print(\"book_list:\", book_list)"
   ]
  },
  {
   "cell_type": "code",
   "execution_count": null,
   "metadata": {
    "collapsed": false,
    "jupyter": {
     "outputs_hidden": false
    },
    "pycharm": {
     "name": "#%%\n"
    }
   },
   "outputs": [],
   "source": [
    "from xml.etree import ElementTree as et\n",
    "\n",
    "books_tree = et.parse('books.xml')\n",
    "book_root = books_tree.getroot()\n",
    "\n",
    "# xml 수정\n",
    "for book in book_root.findall('book'):\n",
    "    # attribute 추가/수정 : set\n",
    "    book.set('USE_YN','Y')\n",
    "    # child 추가/수정 : append\n",
    "    new_element = et.Element('PO_CNT')\n",
    "    new_element.text = '0'\n",
    "    book.append(new_element)\n",
    "\n",
    "books_tree.write('books_edit.xml')"
   ]
  },
  {
   "cell_type": "markdown",
   "metadata": {},
   "source": [
    "<br>\n",
    "\n",
    "## **8.2.4 JSON(JavaScript Object Notation)**\n",
    "\n",
    "#### **`json` 사용**"
   ]
  },
  {
   "cell_type": "code",
   "execution_count": null,
   "metadata": {
    "collapsed": false,
    "jupyter": {
     "outputs_hidden": false
    },
    "pycharm": {
     "name": "#%%\n"
    }
   },
   "outputs": [],
   "source": [
    "widget_json = {\"widget\": {\n",
    "            \"debug\": \"on\",\n",
    "            \"window\": {\n",
    "                \"title\": \"Sample Konfabulator Widget\",\n",
    "                \"name\": \"main_window\",\n",
    "                \"width\": 500,\n",
    "                \"height\": 500\n",
    "            },\n",
    "            \"image\": {\n",
    "                \"src\": \"Images/Sun.png\",\n",
    "                \"name\": \"sun1\",\n",
    "                \"hOffset\": 250,\n",
    "                \"vOffset\": 250,\n",
    "                \"alignment\": \"center\"\n",
    "            },\n",
    "            \"text\": {\n",
    "                \"data\": \"Click Here\",\n",
    "                \"size\": 36,\n",
    "                \"style\": \"bold\",\n",
    "                \"name\": \"text1\",\n",
    "                \"hOffset\": 250,\n",
    "                \"vOffset\": 100,\n",
    "                \"alignment\": \"center\",\n",
    "                \"onMouseUp\": \"sun1.opacity = (sun1.opacity / 100) * 90;\"\n",
    "            }\n",
    "        }}"
   ]
  },
  {
   "cell_type": "markdown",
   "metadata": {},
   "source": [
    "<br>\n",
    "\n",
    "#### `dumps(json)`: json 을 문자열로 변환"
   ]
  },
  {
   "cell_type": "code",
   "execution_count": null,
   "metadata": {
    "collapsed": false,
    "jupyter": {
     "outputs_hidden": false
    },
    "pycharm": {
     "name": "#%%\n"
    }
   },
   "outputs": [],
   "source": [
    "import json\n",
    "widget_str = json.dumps(widget_json)\n",
    "print('widget_str type:', type(widget_str))\n",
    "print('widget_str:', widget_str)"
   ]
  },
  {
   "cell_type": "markdown",
   "metadata": {
    "pycharm": {
     "name": "#%% md\n"
    }
   },
   "source": [
    "<br>\n",
    "\n",
    "#### `loads(json)`: json 을 문자열로 변환"
   ]
  },
  {
   "cell_type": "code",
   "execution_count": null,
   "metadata": {
    "collapsed": false,
    "jupyter": {
     "outputs_hidden": false
    },
    "pycharm": {
     "name": "#%%\n"
    }
   },
   "outputs": [],
   "source": [
    "widget_json_load = json.loads(widget_str)\n",
    "print('widget_json_load type:', type(widget_json_load))\n",
    "print('widget_json_load:', widget_json_load)"
   ]
  },
  {
   "cell_type": "markdown",
   "metadata": {
    "pycharm": {
     "name": "#%% md\n"
    }
   },
   "source": [
    "<br>\n",
    "\n",
    "#### JSON 으로 **변환할 수 없는 경우**"
   ]
  },
  {
   "cell_type": "code",
   "execution_count": null,
   "metadata": {
    "collapsed": false,
    "jupyter": {
     "outputs_hidden": false
    },
    "pycharm": {
     "name": "#%%\n"
    }
   },
   "outputs": [],
   "source": [
    "import datetime as dt\n",
    "\n",
    "new_user = {}\n",
    "new_user['id'] = 'bkb'\n",
    "now= dt.datetime.utcnow()\n",
    "new_user['create_at'] = now\n",
    "print('new_user:', new_user)\n",
    "\n",
    "# TypeError: Object of type datetime is not JSON serializable\n",
    "new_user_str = json.dumps(new_user)"
   ]
  },
  {
   "cell_type": "markdown",
   "metadata": {},
   "source": [
    "<br>\n",
    "\n",
    "#### 방법1: **`str()`** 메서드 사용"
   ]
  },
  {
   "cell_type": "code",
   "execution_count": null,
   "metadata": {
    "collapsed": false,
    "jupyter": {
     "outputs_hidden": false
    },
    "pycharm": {
     "name": "#%%\n"
    }
   },
   "outputs": [],
   "source": [
    "new_user['create_at'] = str(new_user['create_at'])\n",
    "new_user_str = json.dumps(new_user)\n",
    "print('new_user_str', new_user_str)"
   ]
  },
  {
   "cell_type": "markdown",
   "metadata": {
    "pycharm": {
     "name": "#%% md\n"
    }
   },
   "source": [
    "<br>\n",
    "\n",
    "#### 방법2: **`JSONEncoder`** 상속"
   ]
  },
  {
   "cell_type": "code",
   "execution_count": null,
   "metadata": {
    "collapsed": false,
    "jupyter": {
     "outputs_hidden": false
    },
    "pycharm": {
     "name": "#%%\n"
    }
   },
   "outputs": [],
   "source": [
    "class CustomEncoder(json.JSONEncoder):\n",
    "\n",
    "    def default(self, o):\n",
    "        if isinstance(o, dt.datetime):\n",
    "            return str(o)\n",
    "        return super().default(o)\n",
    "new_user_str = json.dumps(new_user, cls=CustomEncoder)\n",
    "print('new_user_str', new_user_str)"
   ]
  },
  {
   "cell_type": "markdown",
   "metadata": {
    "jupyter": {
     "outputs_hidden": false
    },
    "pycharm": {
     "name": "#%% md\n"
    }
   },
   "source": [
    "\n",
    "<br>\n",
    "\n",
    "## **8.2.9 직렬화하기: pickle**\n",
    "\n",
    "#### `pickle`: 바이너리 형식으로 된 객체를 저장/복완 할수 있는 모듈\n",
    "* ####  `dump`: 직렬화\n",
    "* ####  `load`: 역직렬화\n"
   ]
  },
  {
   "cell_type": "code",
   "execution_count": null,
   "metadata": {
    "collapsed": false,
    "jupyter": {
     "outputs_hidden": false
    },
    "pycharm": {
     "name": "#%%\n"
    }
   },
   "outputs": [],
   "source": [
    "import pickle as pc\n",
    "import datetime as dt\n",
    "\n",
    "now = dt.datetime.utcnow()\n",
    "serialized_now = pc.dumps(now)\n",
    "print('serialized_now:', serialized_now, '\\n')\n",
    "deserialized_now = pc.loads(serialized_now)\n",
    "print('deserialized_now:', deserialized_now)"
   ]
  },
  {
   "cell_type": "markdown",
   "metadata": {
    "jupyter": {
     "outputs_hidden": false
    },
    "pycharm": {
     "name": "#%% md\n"
    }
   },
   "source": [
    "<br>\n",
    "\n",
    "## **8.4 관계형 데이터베이스**<br>\n",
    "\n",
    "## **8.4.2 DB-API**\n",
    "\n",
    "##### **관계형 데이터베이스**에 접근하기 위한 **파이썬의 표준 API**\n",
    "* ##### **`connect()`**: 데이터베이스 연결생성. 사용자이름, 비밀번호, 서버주소 등의 인자를 포함\n",
    "* ##### **`cursor()`**: 질의를 관리하기 위한 커서 객체를 만든다\n",
    "* ##### **`excute().executemany()`**: 하나 이상의 SQL 명령 실행\n",
    "* ##### **`fetchone().fetchmany().fetchall()`**: 실행 결과를 얻어옴\n",
    "\n",
    "## **8.4.3 SQLite**\n",
    "\n",
    "##### `sqlite3` 라아브러리 이용"
   ]
  },
  {
   "cell_type": "code",
   "execution_count": null,
   "metadata": {
    "collapsed": false,
    "jupyter": {
     "outputs_hidden": false
    },
    "pycharm": {
     "name": "#%%\n"
    }
   },
   "outputs": [],
   "source": [
    "import sqlite3\n",
    "\n",
    "# 연결, 부재시 local db 파일 생성\n",
    "conn = sqlite3.connect('sample.db')\n",
    "curs = conn.cursor()"
   ]
  },
  {
   "cell_type": "code",
   "execution_count": null,
   "metadata": {
    "collapsed": false,
    "jupyter": {
     "outputs_hidden": false
    },
    "pycharm": {
     "name": "#%%\n"
    }
   },
   "outputs": [],
   "source": [
    "# 테이블생성\n",
    "curs.execute('''\n",
    "CREATE TABLE STUDENT (\n",
    "NAME VARCHAR(20) PRIMARY KEY,\n",
    "AGE INT)\n",
    "''')\n",
    "conn.commit()"
   ]
  },
  {
   "cell_type": "code",
   "execution_count": null,
   "metadata": {
    "collapsed": false,
    "jupyter": {
     "outputs_hidden": false
    },
    "pycharm": {
     "name": "#%%\n"
    }
   },
   "outputs": [],
   "source": [
    "# 데이터입력\n",
    "curs.execute(\"INSERT INTO STUDENT VALUES('KIM', 20)\")\n",
    "conn.commit()"
   ]
  },
  {
   "cell_type": "code",
   "execution_count": null,
   "metadata": {
    "collapsed": false,
    "jupyter": {
     "outputs_hidden": false
    },
    "pycharm": {
     "name": "#%%\n"
    }
   },
   "outputs": [],
   "source": [
    "# placeholder 사용하여 데이터입력\n",
    "ins = 'INSERT INTO STUDENT(NAME, AGE) VALUES(?, ?)'\n",
    "curs.execute(ins, ('LEE', 22))\n",
    "conn.commit()"
   ]
  },
  {
   "cell_type": "code",
   "execution_count": null,
   "metadata": {
    "collapsed": false,
    "jupyter": {
     "outputs_hidden": false
    },
    "pycharm": {
     "name": "#%%\n"
    }
   },
   "outputs": [],
   "source": [
    "# 데이터조회\n",
    "ins = 'SELECT NAME, AGE FROM STUDENT WHERE NAME = ?'\n",
    "\n",
    "# ?\n",
    "curs.execute(ins, ('KIM'))\n",
    "print(curs.fetchall())\n",
    "curs.close()\n",
    "conn.close()"
   ]
  },
  {
   "cell_type": "markdown",
   "metadata": {
    "pycharm": {
     "name": "#%% md\n"
    }
   },
   "source": [
    "\n",
    "<br>\n",
    "\n",
    "## **8.4.6 SQLAlchemy**\n",
    "\n",
    "가장 인기 있는 크로스 데이터베이스의 파이썬 라이브러리\n",
    "\n",
    "`pip install sqlalchemy`\n",
    "\n",
    "* 가장 낮은 수준에서 데이터베이스 커넥션 풀을 처리\n",
    "* 파이써닉한 SQL 빌더\n",
    "* ORM - 관계형 자료구조와 어플리케이션 코드를 바인딩\n",
    "\n"
   ]
  },
  {
   "cell_type": "code",
   "execution_count": null,
   "metadata": {
    "collapsed": false,
    "jupyter": {
     "outputs_hidden": false
    },
    "pycharm": {
     "name": "#%%\n"
    }
   },
   "outputs": [],
   "source": [
    "import sqlalchemy as sa\n",
    "\n",
    "# 데이터베이스 커넥션 얻어오기\n",
    "# 데이터베이스타입 + 드라이버 :// user : password @ host : port / dbname\n",
    "conn = sa.create_engine('sqlite:///sample_db2')\n"
   ]
  },
  {
   "cell_type": "code",
   "execution_count": null,
   "metadata": {
    "collapsed": false,
    "jupyter": {
     "outputs_hidden": false
    },
    "pycharm": {
     "name": "#%%\n"
    }
   },
   "outputs": [],
   "source": [
    "# 테이블 생성\n",
    "conn.execute('''\n",
    "CREATE TABLE STUDENT (\n",
    "NAME VARCHAR(20) PRIMARY KEY,\n",
    "AGE INT)\n",
    "''')"
   ]
  },
  {
   "cell_type": "code",
   "execution_count": null,
   "metadata": {
    "collapsed": false,
    "jupyter": {
     "outputs_hidden": false
    },
    "pycharm": {
     "name": "#%%\n"
    }
   },
   "outputs": [],
   "source": [
    "# 데이터 입력\n",
    "conn.execute(\"INSERT INTO STUDENT VALUES('KIM', 20)\")\n",
    "\n",
    "# placeholder 사용하여 데이터입력 (튜플)\n",
    "ins = 'INSERT INTO STUDENT(NAME, AGE) VALUES(?, ?)'\n",
    "conn.execute(ins, ('LEE', 22))\n",
    "\n",
    "# placeholder 사용하여 데이터입력 (**args)\n",
    "ins = 'INSERT INTO STUDENT(NAME, AGE) VALUES(?, ?)'\n",
    "conn.execute(ins, 'PARK', 25)"
   ]
  },
  {
   "cell_type": "code",
   "execution_count": null,
   "metadata": {
    "collapsed": false,
    "jupyter": {
     "outputs_hidden": false
    },
    "pycharm": {
     "name": "#%%\n"
    }
   },
   "outputs": [],
   "source": [
    "# 데이터 확인\n",
    "rows = conn.execute('SELECT * FROM STUDENT')\n",
    "print('rows type:',type(rows))\n",
    "\n",
    "for row in rows:\n",
    "    print(row)\n"
   ]
  },
  {
   "cell_type": "markdown",
   "metadata": {
    "pycharm": {
     "name": "#%% md\n"
    }
   },
   "source": [
    "\n",
    "<br>\n",
    "\n",
    "### **SQL 표현언어(EL) 사용**"
   ]
  },
  {
   "cell_type": "code",
   "execution_count": null,
   "metadata": {},
   "outputs": [],
   "source": [
    "import sqlalchemy as sa\n",
    "\n",
    "conn = sa.create_engine('sqlite:///sample_db2')\n",
    "\n",
    "# 어플리케이션 내에 테이블의 구조 매핑\n",
    "meta = sa.MetaData()\n",
    "student = sa.Table('student', meta,\n",
    "                   sa.Column('NAME', sa.String, primary_key=True),\n",
    "                   sa.Column('AGE', sa.Integer)\n",
    "                  )\n",
    "meta.create_all(conn)\n",
    "\n",
    "conn.execute(student.insert(('BANG', 31)))"
   ]
  },
  {
   "cell_type": "code",
   "execution_count": null,
   "metadata": {},
   "outputs": [],
   "source": [
    "# 데이터 조회\n",
    "result = conn.execute(student.select())\n",
    "rows = result.fetchall()\n",
    "print(rows)"
   ]
  },
  {
   "cell_type": "markdown",
   "metadata": {
    "pycharm": {
     "name": "#%% md\n"
    }
   },
   "source": [
    "\n",
    "<br>\n",
    "\n",
    "### **ORM**\n",
    "\n",
    "`ORM 클래스`를 정의하여 데이터베이스의 데이터 입출력 처리<br>\n",
    "코드의 객채를 참조하여 파이썬처럼 작동하게 하는 것"
   ]
  },
  {
   "cell_type": "code",
   "execution_count": null,
   "metadata": {},
   "outputs": [],
   "source": [
    "# 연결\n",
    "import sqlalchemy as sa\n",
    "from sqlalchemy.ext.declarative import declarative_base as dcb\n",
    "\n",
    "conn = sa.create_engine('sqlite:///sample_orm.db')"
   ]
  },
  {
   "cell_type": "code",
   "execution_count": null,
   "metadata": {},
   "outputs": [],
   "source": [
    "# ORM Class 생성\n",
    "Base = dcb()\n",
    "\n",
    "class Student(Base):\n",
    "    __tablename__ = 'student'\n",
    "    name = sa.Column('name', sa.String, primary_key=True)\n",
    "    age = sa.Column('age', sa.Integer)\n",
    "    \n",
    "    def __init__(self, name, age):\n",
    "        self.name = name\n",
    "        self.age = age\n",
    "        \n",
    "    def __repr__(self):\n",
    "        return \"<Student({},{})>\".format(self.name, self.age)\n",
    "    \n",
    "# 정의한 ORM class 로 테이블 생성\n",
    "Base.metadata.create_all(conn)"
   ]
  },
  {
   "cell_type": "code",
   "execution_count": null,
   "metadata": {
    "collapsed": false,
    "jupyter": {
     "outputs_hidden": false
    },
    "pycharm": {
     "name": "#%%\n"
    }
   },
   "outputs": [],
   "source": [
    "# 정의한 ORM 객체 생성\n",
    "student_1 = Student('KIM', 20)\n",
    "student_2 = Student('LEE', 22)\n",
    "student_3 = Student('PARK', 25)\n",
    "student_4 = Student('KO', 25)\n",
    "\n",
    "print(\"student_1:\", student_1)\n",
    "print(\"student_2:\", student_2)\n",
    "print(\"student_3:\", student_3)\n",
    "print(\"student_4:\", student_4)"
   ]
  },
  {
   "cell_type": "code",
   "execution_count": null,
   "metadata": {
    "collapsed": false,
    "jupyter": {
     "outputs_hidden": false
    },
    "pycharm": {
     "name": "#%%\n"
    }
   },
   "outputs": [],
   "source": [
    "from sqlalchemy.orm import sessionmaker\n",
    "# 해당 객체를 사용하여 데이터베이스 작업수행\n",
    "\n",
    "# 세션 생성\n",
    "session = sessionmaker(bind=conn)()"
   ]
  },
  {
   "cell_type": "code",
   "execution_count": null,
   "metadata": {
    "collapsed": false,
    "jupyter": {
     "outputs_hidden": false
    },
    "pycharm": {
     "name": "#%%\n"
    }
   },
   "outputs": [],
   "source": [
    "# ORM 객체 단일 Insert\n",
    "session.add(student_1)\n",
    "\n",
    "# ORM 객체 다중 Insert\n",
    "session.add_all([student_2, student_3, student_4])\n",
    "\n",
    "# 트랜잭션 커밋\n",
    "session.commit()"
   ]
  },
  {
   "cell_type": "code",
   "execution_count": null,
   "metadata": {
    "collapsed": false,
    "jupyter": {
     "outputs_hidden": false
    },
    "pycharm": {
     "name": "#%%\n"
    }
   },
   "outputs": [],
   "source": [
    "# 조회\n",
    "\n",
    "# 전체 Select\n",
    "student_all = session.query(Student).all()\n",
    "\n",
    "# 조건문 Select\n",
    "student_k = session.query(Student)\\\n",
    "                    .filter(Student.name.like('K%'))\\\n",
    "                    .order_by(Student.age)\\\n",
    "                    .all()\n",
    "            \n",
    "print('student_all:', student_all)\n",
    "print('student_k:', student_k)\n",
    "                   "
   ]
  },
  {
   "cell_type": "markdown",
   "metadata": {},
   "source": [
    "\n",
    "<br>\n",
    "\n",
    "## **8.5 NoSQL 데이터 스토어**\n",
    "\n",
    "* `큰 데이터 집합` 처리\n",
    "* 데이터 정의에 대해 좀 더 `유연`하거나 `커스텀 데이터 연산`을 지원\n",
    "\n",
    "<br>\n",
    "\n",
    "## **8.5.2 Memcached**\n",
    "\n",
    "* `인메모리 키-값` 캐시 서버\n",
    "* 데이터베이스의 앞 단에 놓거나, 웹 서버의 `세션 데이터`를 저장하는데 사용"
   ]
  },
  {
   "cell_type": "code",
   "execution_count": null,
   "metadata": {},
   "outputs": [],
   "source": [
    "import memcache\n",
    "\n",
    "# 커넥션 얻어오기\n",
    "db = memcache.Client(['localhost:11211'])\n",
    "\n",
    "# 문자열 value \n",
    "db.set('admin', 'bkb')\n",
    "print('admin:', db.get('admin'))\n",
    "\n",
    "# int 형 value / 값 증가\n",
    "db.set('age', 30)\n",
    "print('age:', db.get('age'))\n",
    "db.incr('age', 1)\n",
    "print('age increased:', db.get('age'))\n",
    "\n",
    "# 메모리 flush\n",
    "db.flush_all()\n",
    "print('--------flush all----------')\n",
    "print('admin:', db.get('admin'))\n",
    "print('age:', db.get('age'))"
   ]
  },
  {
   "cell_type": "markdown",
   "metadata": {},
   "source": [
    "\n",
    "<br>\n",
    "\n",
    "## **8.5.3 Redis**\n",
    "\n",
    "* 재시작, 신뢰성을 위해 데이터를 `디스크에 저장할 수` 있다\n",
    "* 기존 `데이터 유지`\n",
    "* 간단한 `문자열 이상의 자료구조`를 제공\n",
    "\n",
    "#### Redis 데이터 타입이 **파이썬 데이터와 유사**하기 때문에 파이썬 어플리케이션에서 자주 사용된다\n",
    "\n",
    "<br>\n",
    "\n",
    "## **문자열**"
   ]
  },
  {
   "cell_type": "code",
   "execution_count": null,
   "metadata": {},
   "outputs": [],
   "source": [
    "import redis\n",
    "\n",
    "# conn = redis.Redis()\n",
    "# conn = redis.Redis('localhost')\n",
    "conn = redis.Redis('localhost', 6379)\n",
    "\n",
    "# 저장된 모든 키값 불러오기\n",
    "conn.keys('*')\n"
   ]
  },
  {
   "cell_type": "code",
   "execution_count": null,
   "metadata": {},
   "outputs": [],
   "source": [
    "conn.set('admin', 'bkb')\n",
    "admin = conn.get('admin')\n",
    "print('admin:', admin)\n",
    "print('type:', type(admin))"
   ]
  },
  {
   "cell_type": "code",
   "execution_count": null,
   "metadata": {},
   "outputs": [],
   "source": [
    "# 인코딩 설정\n",
    "conn = redis.StrictRedis(host=\"localhost\", port=6379, charset=\"utf-8\", decode_responses=True)\n",
    "\n",
    "conn.set('admin', 'bkb')\n",
    "admin = conn.get('admin')\n",
    "print('admin:', admin)\n",
    "print('type:', type(admin))"
   ]
  },
  {
   "cell_type": "code",
   "execution_count": null,
   "metadata": {},
   "outputs": [],
   "source": [
    "# 키 값 존재하지 않는 경우만 값 설정\n",
    "flag = conn.setnx('admin','bkb2')\n",
    "print('flag:',flag)\n",
    "print('admin:', conn.get('admin'))"
   ]
  },
  {
   "cell_type": "code",
   "execution_count": null,
   "metadata": {},
   "outputs": [],
   "source": [
    "# 이전 값 반환, 동시에 새로운 값 설정\n",
    "prev_admin = conn.getset('admin', 'bkb2')\n",
    "print('prev_admin:', prev_admin)\n",
    "print('new_admin:', conn.get('admin'))"
   ]
  },
  {
   "cell_type": "code",
   "execution_count": null,
   "metadata": {},
   "outputs": [],
   "source": [
    "# 다중 K-V 입력\n",
    "conn.mset({'status_code': 200, 'status_name': 'isOK'})"
   ]
  },
  {
   "cell_type": "code",
   "execution_count": null,
   "metadata": {},
   "outputs": [],
   "source": [
    "# 다중 K-V 조회\n",
    "conn.mget(['status_code', 'status_name'])"
   ]
  },
  {
   "cell_type": "code",
   "execution_count": null,
   "metadata": {},
   "outputs": [],
   "source": [
    "# 키 삭제\n",
    "conn.delete('admin')\n",
    "conn.keys('*')"
   ]
  },
  {
   "cell_type": "code",
   "execution_count": null,
   "metadata": {},
   "outputs": [],
   "source": [
    "# 값 증위연산\n",
    "conn.setnx('visit_cnt', 1)\n",
    "conn.setnx('income', 1.0)\n",
    "print('visit_cnt:', conn.get('visit_cnt'))\n",
    "print('income:', conn.get('income'))\n",
    "\n",
    "# 값 증가\n",
    "conn.incr('visit_cnt', 1)\n",
    "print('visit_cnt:', conn.get('visit_cnt'))\n",
    "\n",
    "# 값 감소\n",
    "conn.decr('visit_cnt', 1)\n",
    "print('visit_cnt:', conn.get('visit_cnt'))\n",
    "\n",
    "# 값 증가 (float)\n",
    "conn.incrbyfloat('income', 2.2)\n",
    "print('income:', conn.get('income'))\n",
    "\n",
    "# 값 감소 (float) - decybyfloat 은 존재하지 않음\n",
    "conn.incrbyfloat('income', -1.2)\n",
    "print('income:', conn.get('income'))"
   ]
  },
  {
   "cell_type": "markdown",
   "metadata": {},
   "source": [
    "\n",
    "<br>\n",
    "\n",
    "## **리스트**\n",
    "\n",
    "Redis의 리스트는 `문자열만 포함가능`"
   ]
  },
  {
   "cell_type": "code",
   "execution_count": null,
   "metadata": {},
   "outputs": [],
   "source": [
    "# 입력 - left, right\n",
    "conn.delete('test_list')\n",
    "conn.lpush('test_list', '1')\n",
    "conn.lpush('test_list', 2)\n",
    "conn.rpush('test_list','last val')\n",
    "\n",
    "# 조회 (0, -1 지정하면 전체 리스트 조회)\n",
    "conn.lrange('test_list', 0, -1)"
   ]
  },
  {
   "cell_type": "code",
   "execution_count": null,
   "metadata": {},
   "outputs": [],
   "source": [
    "# 특정값 기준\n",
    "conn.linsert('test_list', 'before', 'last val', '2th back val')\n",
    "conn.lrange('test_list', 0, -1)"
   ]
  },
  {
   "cell_type": "code",
   "execution_count": null,
   "metadata": {},
   "outputs": [],
   "source": [
    "# offset\n",
    "conn.lset('test_list', 1, '2th front val')\n",
    "conn.lrange('test_list', 0, -1)"
   ]
  },
  {
   "cell_type": "code",
   "execution_count": null,
   "metadata": {},
   "outputs": [],
   "source": [
    "# 특정 offset 조회\n",
    "conn.lindex('test_list', 1)"
   ]
  },
  {
   "cell_type": "code",
   "execution_count": null,
   "metadata": {},
   "outputs": [],
   "source": [
    "# offset 범위만 남기기\n",
    "conn.ltrim('test_list', 0, 1)\n",
    "conn.lrange('test_list', 0, -1)"
   ]
  },
  {
   "cell_type": "markdown",
   "metadata": {},
   "source": [
    "\n",
    "<br>\n",
    "\n",
    "## **해시**\n",
    "\n",
    "* 파이썬의 딕셔너리와 유사하지만 문자열만 포함가능\n",
    "* 한 단계 깊이의 구조만 가능"
   ]
  },
  {
   "cell_type": "code",
   "execution_count": null,
   "metadata": {},
   "outputs": [],
   "source": [
    "# 한번에 입력\n",
    "conn.hmset('test_map', {'name': 'bkb', 'job': 'developer'})\n",
    "\n",
    "# 하나의 필드 설정\n",
    "conn.hset('test_map', 'age', 31)"
   ]
  },
  {
   "cell_type": "code",
   "execution_count": null,
   "metadata": {},
   "outputs": [],
   "source": [
    "# 필드 하나 조회\n",
    "conn.hget('test_map', 'name')"
   ]
  },
  {
   "cell_type": "code",
   "execution_count": null,
   "metadata": {},
   "outputs": [],
   "source": [
    "# 다중 필드 조회\n",
    "conn.hmget('test_map', 'name', 'age')"
   ]
  },
  {
   "cell_type": "code",
   "execution_count": null,
   "metadata": {},
   "outputs": [],
   "source": [
    "# 모든 필드 키 조회\n",
    "conn.hkeys('test_map')"
   ]
  },
  {
   "cell_type": "code",
   "execution_count": null,
   "metadata": {},
   "outputs": [],
   "source": [
    "# 모든 필드 값 조회\n",
    "conn.hvals('test_map')"
   ]
  },
  {
   "cell_type": "code",
   "execution_count": null,
   "metadata": {},
   "outputs": [],
   "source": [
    "# map 전체 조회\n",
    "conn.hgetall('test_map')"
   ]
  },
  {
   "cell_type": "markdown",
   "metadata": {},
   "source": [
    "\n",
    "<br>\n",
    "\n",
    "## **셋**"
   ]
  },
  {
   "cell_type": "code",
   "execution_count": null,
   "metadata": {},
   "outputs": [],
   "source": [
    "# 값 추가\n",
    "conn.sadd('city', 'seoul', 'busan', 'pyeongtaek')"
   ]
  },
  {
   "cell_type": "code",
   "execution_count": null,
   "metadata": {},
   "outputs": [],
   "source": [
    "# 모든 값 조회\n",
    "conn.smembers('city')"
   ]
  },
  {
   "cell_type": "code",
   "execution_count": null,
   "metadata": {},
   "outputs": [],
   "source": [
    "conn.sadd('big_city', 'seoul', 'busan', 'deajun')\n",
    "\n",
    "# 교집합 연산\n",
    "conn.sinter('city','big_city')"
   ]
  },
  {
   "cell_type": "code",
   "execution_count": null,
   "metadata": {},
   "outputs": [],
   "source": [
    "# 합집합 연산\n",
    "conn.sunion('city', 'big_city')"
   ]
  },
  {
   "cell_type": "code",
   "execution_count": null,
   "metadata": {},
   "outputs": [],
   "source": [
    "# 차집합 연산\n",
    "conn.sdiff('city', 'big_city')"
   ]
  },
  {
   "cell_type": "markdown",
   "metadata": {},
   "source": [
    "\n",
    "<br>\n",
    "\n",
    "## **정렬된 셋**\n",
    "\n",
    "* `가장 많이 쓰이는` Redis 의 데이터 타입\n",
    "* 각 값은 연관된 `부동 소수점의 점수`를 가진다"
   ]
  },
  {
   "cell_type": "code",
   "execution_count": null,
   "metadata": {},
   "outputs": [],
   "source": [
    "import time\n",
    "\n",
    "now = time.time()\n",
    "\n",
    "# 시간을 score 로 user 3명 추가\n",
    "conn.zadd('logins', {'user_1': now})\n",
    "conn.zadd('logins', {'user_2': now + (60 * 10), 'user_3': now  + (60 *2)})"
   ]
  },
  {
   "cell_type": "code",
   "execution_count": null,
   "metadata": {},
   "outputs": [],
   "source": [
    "# 특정 유저 rank 조회\n",
    "conn.zrank('logins', 'user_2')"
   ]
  },
  {
   "cell_type": "code",
   "execution_count": null,
   "metadata": {},
   "outputs": [],
   "source": [
    "# 특정 유저 score 조회\n",
    "conn.zscore('logins', 'user_2')"
   ]
  },
  {
   "cell_type": "code",
   "execution_count": null,
   "metadata": {},
   "outputs": [],
   "source": [
    "# 로그인한 순서 전체 조회\n",
    "conn.zrange('logins', 0, -1)"
   ]
  },
  {
   "cell_type": "code",
   "execution_count": null,
   "metadata": {},
   "outputs": [],
   "source": [
    "# 점수와 함꼐 전체 조회\n",
    "conn.zrange('logins', 0, -1, withscores=True)"
   ]
  },
  {
   "cell_type": "markdown",
   "metadata": {},
   "source": [
    "\n",
    "<br>\n",
    "\n",
    "## **비트**\n",
    "\n",
    "`대량의 숫자 집합`을 효율적으로 처리"
   ]
  },
  {
   "cell_type": "code",
   "execution_count": null,
   "metadata": {},
   "outputs": [],
   "source": [
    "days = ['2020-01-01', '2020-01-02', '2020-01-03']\n",
    "user_1 = '1024'\n",
    "user_2 = '1025'\n",
    "user_3 = '1026'\n",
    "\n",
    "# 첫째날 - user 1만 방문\n",
    "conn.setbit(days[0], user_1, 1)\n",
    "conn.setbit(days[0], user_1, 1)\n",
    "\n",
    "# 둘째날 - user1, user2\n",
    "conn.setbit(days[1], user_2, 1)\n",
    "conn.setbit(days[1], user_1, 1)\n",
    "conn.setbit(days[1], user_2, 1)\n",
    "\n",
    "# 셋째날 - user1, 3\n",
    "conn.setbit(days[2], user_1, 1)\n",
    "conn.setbit(days[2], user_3, 1)\n",
    "conn.setbit(days[2], user_2, 1)\n",
    "\n",
    "# 날짜별 방문자 count\n",
    "for day in days:\n",
    "    print(day, 'visit count:', conn.bitcount(day))"
   ]
  },
  {
   "cell_type": "code",
   "execution_count": null,
   "metadata": {},
   "outputs": [],
   "source": [
    "# set, get 은 bit offset / bitcount 는 byte offset\n",
    "print('count by range (bit):', conn.bitcount(days[0], 1000, 1005))\n",
    "print('count by range (byte):', conn.bitcount(days[0], 128, 128))"
   ]
  },
  {
   "cell_type": "code",
   "execution_count": null,
   "metadata": {},
   "outputs": [],
   "source": [
    "# and 연산\n",
    "conn.bitop('and', 'everyday', *days)\n",
    "print('everyday_cnt:', conn.bitcount('everyday'))\n",
    "\n",
    "# or 연산\n",
    "conn.bitop('or', 'alldays', *days)\n",
    "print('alldays_cnt:', conn.bitcount('alldays'))"
   ]
  },
  {
   "cell_type": "markdown",
   "metadata": {},
   "source": [
    "\n",
    "<br>\n",
    "\n",
    "## **캐시와 만료**\n",
    "\n",
    "모든 Redis 의 키는 TTL (Time-To-Live) 를 가진다 (기본값- 만료일 끝이 없음)<br>\n",
    "`로그인 세션을 제한할 때 유용`하다\n",
    "\n",
    "* **`expire(time)`** 함수 이용 (단위: 초)"
   ]
  },
  {
   "cell_type": "code",
   "execution_count": null,
   "metadata": {},
   "outputs": [],
   "source": [
    "import time\n",
    "\n",
    "key = 'some_data'\n",
    "conn.set(key, 'some_value')\n",
    "\n",
    "# TTL 설정\n",
    "conn.expire(key, 5)\n",
    "\n",
    "# TTL 설정값 확인\n",
    "print(key, '\\'s ttl:', conn.ttl(key))\n",
    "\n",
    "# 만료전 확인\n",
    "print(key, ':', conn.get(key))\n",
    "      \n",
    "# 만료후 확인\n",
    "time.sleep(5)\n",
    "print(key, ':', conn.get(key))"
   ]
  },
  {
   "cell_type": "code",
   "execution_count": null,
   "metadata": {},
   "outputs": [],
   "source": []
  }
 ],
 "metadata": {
  "kernelspec": {
   "display_name": "Python 3",
   "language": "python",
   "name": "python3"
  },
  "language_info": {
   "codemirror_mode": {
    "name": "ipython",
    "version": 3
   },
   "file_extension": ".py",
   "mimetype": "text/x-python",
   "name": "python",
   "nbconvert_exporter": "python",
   "pygments_lexer": "ipython3",
   "version": "3.8.3"
  }
 },
 "nbformat": 4,
 "nbformat_minor": 4
}
