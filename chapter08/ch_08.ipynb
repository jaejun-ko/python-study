{
 "cells": [
  {
   "cell_type": "markdown",
   "metadata": {
    "jupyter": {
     "outputs_hidden": false
    },
    "pycharm": {
     "name": "#%% md\n"
    }
   },
   "source": [
    "# **8장 흘러가는 데이터**\n",
    "\n",
    "<br>\n",
    "\n",
    "## **8.1 파일입출력**\n",
    "\n",
    "파일을 읽고 쓰기 전에 **파일 열기**\\\n",
    "`fileobj = open(filename, mode)`\n",
    "* `fileobj` : open() 에 의해 반환되는 파일 객체\n",
    "* `filename` : 파일의 문자열 이름\n",
    "* `mode` : 파일 타입과 파일로 무엇을 할지 명시하는 문자열\n",
    "\n",
    "`mode` 의 첫 글자는 **작업**을 명시\n",
    "* r : 파일 읽기\n",
    "* w : 파일 쓰기 (파일 존재하지 않으면 파일 생성, 존재하면 덮어쓴다)\n",
    "* x : 파일 쓰기 (파일이 존재하지 않을 경우만)\n",
    "* a : 파일이 존재하면 파일의 끝에서부터 쓴다)\n",
    "\n",
    "`mode` 의 두번째 글자는 파일 타입을 명시\n",
    "* t(또는 아무것도 명시하지 않음) : 텍스트 타입\n",
    "* b : 이진(binary) 타입\n",
    "\n",
    "<br>\n",
    "\n",
    "## **8.1.1 텍스트 파일 쓰기 : write()**"
   ]
  },
  {
   "cell_type": "code",
   "execution_count": null,
   "metadata": {
    "pycharm": {
     "name": "#%%\n"
    }
   },
   "outputs": [
    {
     "name": "stdout",
     "output_type": "stream",
     "text": [
      "11\n"
     ]
    }
   ],
   "source": [
    "from typing import Any\n",
    "sample_content1 = '''12345\n",
    "abcde'''\n",
    "\n",
    "fout = open('sample_file_write.txt', 'wt')\n",
    "file_byte_length = fout.write(sample_content1)\n",
    "fout.close()\n",
    "print(file_byte_length)"
   ]
  },
  {
   "cell_type": "markdown",
   "metadata": {
    "jupyter": {
     "outputs_hidden": false
    },
    "pycharm": {
     "name": "#%% md\n"
    }
   },
   "source": [
    "<br>\n",
    "\n",
    "#### **print()** 함수로 텍스트 파일 생성하기\n",
    "* sep : 구분자, 기본값은 ' '\n",
    "* end : 문자열 끝, 기본값은 '\\n'"
   ]
  },
  {
   "cell_type": "code",
   "execution_count": 2,
   "metadata": {
    "pycharm": {
     "name": "#%%\n"
    }
   },
   "outputs": [],
   "source": [
    "sample_content1 = '''12345\n",
    "abcde'''\n",
    "\n",
    "sample_content2 = '''가나다라마바사\n",
    "아자차카타파하'''\n",
    "\n",
    "fout = open('sample_file_print.txt', 'wt')\n",
    "print(sample_content1, sample_content2, file=fout)\n",
    "fout.close()\n",
    "\n",
    "\n",
    "fout = open('sample_file_print_kwargs.txt', 'wt')\n",
    "print(sample_content1, sample_content2, file=fout, sep=\"@\\n\", end='!')\n",
    "fout.close()"
   ]
  },
  {
   "cell_type": "markdown",
   "metadata": {
    "jupyter": {
     "outputs_hidden": false
    },
    "pycharm": {
     "name": "#%% md\n"
    }
   },
   "source": [
    "<br>\n",
    "\n",
    "## **8.1.2 텍스트 파일 읽기**\n",
    "\n",
    "#### **read()** 함수로 전체파일 읽기 - 큰 파일 읽을때 주의 필요\n"
   ]
  },
  {
   "cell_type": "code",
   "execution_count": 3,
   "metadata": {
    "pycharm": {
     "name": "#%%\n"
    }
   },
   "outputs": [
    {
     "name": "stdout",
     "output_type": "stream",
     "text": [
      "12345\n",
      "abcde 가나다라마바사\n",
      "아자차카타파하\n",
      "\n"
     ]
    }
   ],
   "source": [
    "fin = open(\"sample_file_print.txt\", 'rt')\n",
    "contents = fin.read()\n",
    "fin.close()\n",
    "print(contents)"
   ]
  },
  {
   "cell_type": "markdown",
   "metadata": {
    "jupyter": {
     "outputs_hidden": false
    },
    "pycharm": {
     "name": "#%% md\n"
    }
   },
   "source": [
    "<br>\n",
    "\n",
    "#### **read(chunk)** - 한번에 읽을 문자수를 chunk 길이만큼 제한"
   ]
  },
  {
   "cell_type": "code",
   "execution_count": 4,
   "metadata": {
    "pycharm": {
     "name": "#%%\n"
    }
   },
   "outputs": [
    {
     "name": "stdout",
     "output_type": "stream",
     "text": [
      "loop 1 : 12345\n",
      "abcd\n",
      "loop 2 : e 가나다라마바사\n",
      "\n",
      "loop 3 : 아자차카타파하\n",
      "\n",
      "\n",
      "-----content\n",
      " 12345\n",
      "abcde 가나다라마바사\n",
      "아자차카타파하\n",
      "\n"
     ]
    }
   ],
   "source": [
    "fin = open(\"sample_file_print.txt\", 'rt')\n",
    "\n",
    "content = ''\n",
    "chunk = 10\n",
    "loop = 1\n",
    "while True:\n",
    "    fragment = fin.read(chunk)\n",
    "    # 파이썬에서 빈문자열이 조건식에 쓰일 경우 False인 점을 이용\n",
    "    if not fragment:\n",
    "        break\n",
    "    print('loop',loop, ':', fragment)\n",
    "    content += fragment\n",
    "    loop += 1\n",
    "\n",
    "fin.close()\n",
    "print('\\n-----content\\n', content)"
   ]
  },
  {
   "cell_type": "markdown",
   "metadata": {
    "jupyter": {
     "outputs_hidden": false
    },
    "pycharm": {
     "name": "#%% md\n"
    }
   },
   "source": [
    "<br>\n",
    "\n",
    "#### **readline()** - 한 라인씩 읽기"
   ]
  },
  {
   "cell_type": "code",
   "execution_count": 5,
   "metadata": {
    "pycharm": {
     "name": "#%%\n"
    }
   },
   "outputs": [
    {
     "name": "stdout",
     "output_type": "stream",
     "text": [
      "line 1 : 12345\n",
      "\n",
      "line 2 : abcde@\n",
      "\n",
      "line 3 : 가나다라마바사\n",
      "\n",
      "line 4 : 아자차카타파하!\n",
      "\n",
      "----content\n",
      " 12345\n",
      "abcde@\n",
      "가나다라마바사\n",
      "아자차카타파하!\n"
     ]
    }
   ],
   "source": [
    "fin = open('sample_file_print_kwargs.txt', 'rt')\n",
    "\n",
    "content = ''\n",
    "line_num = 1\n",
    "while True:\n",
    "    line = fin.readline()\n",
    "    if not line:\n",
    "        break\n",
    "    content += line\n",
    "    print('line', line_num, ':', line)\n",
    "    line_num += 1\n",
    "\n",
    "fin.close()\n",
    "print('\\n----content\\n', content)"
   ]
  },
  {
   "cell_type": "markdown",
   "metadata": {
    "jupyter": {
     "outputs_hidden": false
    },
    "pycharm": {
     "name": "#%% md\n"
    }
   },
   "source": [
    "<br>\n",
    "\n",
    "#### **readlines()** - 모든 라인을 읽어 리스트 반환"
   ]
  },
  {
   "cell_type": "code",
   "execution_count": 6,
   "metadata": {
    "pycharm": {
     "name": "#%%\n"
    }
   },
   "outputs": [
    {
     "name": "stdout",
     "output_type": "stream",
     "text": [
      "lines: ['12345\\n', 'abcde@\\n', '가나다라마바사\\n', '아자차카타파하!']\n",
      "\n",
      "----content\n",
      " 12345\n",
      "abcde@\n",
      "가나다라마바사\n",
      "아자차카타파하!\n"
     ]
    }
   ],
   "source": [
    "fin = open('sample_file_print_kwargs.txt', 'rt')\n",
    "\n",
    "lines = fin.readlines()\n",
    "print('lines:',lines)\n",
    "\n",
    "content = ''\n",
    "for line in lines:\n",
    "    content += line\n",
    "\n",
    "print('\\n----content\\n', content)\n",
    "fin.close()"
   ]
  },
  {
   "cell_type": "markdown",
   "metadata": {
    "jupyter": {
     "outputs_hidden": false
    },
    "pycharm": {
     "name": "#%% md\n"
    }
   },
   "source": [
    "<br>\n",
    "\n",
    "#### **이터레이터** 활용"
   ]
  },
  {
   "cell_type": "code",
   "execution_count": 7,
   "metadata": {
    "pycharm": {
     "name": "#%%\n"
    }
   },
   "outputs": [
    {
     "name": "stdout",
     "output_type": "stream",
     "text": [
      "fin: <class '_io.TextIOWrapper'>\n",
      "\n",
      "----content\n",
      " 12345\n",
      "abcde@\n",
      "가나다라마바사\n",
      "아자차카타파하!\n"
     ]
    }
   ],
   "source": [
    "fin = open('sample_file_print_kwargs.txt', 'rt')\n",
    "\n",
    "print('fin:', type(fin))\n",
    "content = ''\n",
    "for line in fin:\n",
    "    content += line\n",
    "\n",
    "print('\\n----content\\n', content)\n",
    "fin.close()"
   ]
  },
  {
   "cell_type": "markdown",
   "metadata": {
    "jupyter": {
     "outputs_hidden": false
    },
    "pycharm": {
     "name": "#%% md\n"
    }
   },
   "source": [
    "<br>\n",
    "\n",
    "## **8.1.3 이진파일 읽기/쓰기**\n",
    "\n",
    "#### mode에 't' 대신 `'b'` 사용"
   ]
  },
  {
   "cell_type": "code",
   "execution_count": 8,
   "metadata": {
    "collapsed": false,
    "jupyter": {
     "outputs_hidden": false
    },
    "pycharm": {
     "name": "#%%\n"
    }
   },
   "outputs": [
    {
     "name": "stdout",
     "output_type": "stream",
     "text": [
      "bdata: b'\\x00\\x01\\x02\\x03\\x04\\x05\\x06\\x07\\x08\\t\\n\\x0b\\x0c\\r\\x0e\\x0f\\x10\\x11\\x12\\x13\\x14\\x15\\x16\\x17\\x18\\x19\\x1a\\x1b\\x1c\\x1d\\x1e\\x1f !\"#$%&\\'()*+,-./0123456789:;<=>?@ABCDEFGHIJKLMNOPQRSTUVWXYZ[\\\\]^_`abcdefghijklmnopqrstuvwxyz{|}~\\x7f\\x80\\x81\\x82\\x83\\x84\\x85\\x86\\x87\\x88\\x89\\x8a\\x8b\\x8c\\x8d\\x8e\\x8f\\x90\\x91\\x92\\x93\\x94\\x95\\x96\\x97\\x98\\x99\\x9a\\x9b\\x9c\\x9d\\x9e\\x9f\\xa0\\xa1\\xa2\\xa3\\xa4\\xa5\\xa6\\xa7\\xa8\\xa9\\xaa\\xab\\xac\\xad\\xae\\xaf\\xb0\\xb1\\xb2\\xb3\\xb4\\xb5\\xb6\\xb7\\xb8\\xb9\\xba\\xbb\\xbc\\xbd\\xbe\\xbf\\xc0\\xc1\\xc2\\xc3\\xc4\\xc5\\xc6\\xc7\\xc8\\xc9\\xca\\xcb\\xcc\\xcd\\xce\\xcf\\xd0\\xd1\\xd2\\xd3\\xd4\\xd5\\xd6\\xd7\\xd8\\xd9\\xda\\xdb\\xdc\\xdd\\xde\\xdf\\xe0\\xe1\\xe2\\xe3\\xe4\\xe5\\xe6\\xe7\\xe8\\xe9\\xea\\xeb\\xec\\xed\\xee\\xef\\xf0\\xf1\\xf2\\xf3\\xf4\\xf5\\xf6\\xf7\\xf8\\xf9\\xfa\\xfb\\xfc\\xfd\\xfe\\xff' \n",
      "\n",
      "len of bdata: 256\n"
     ]
    }
   ],
   "source": [
    "# 이진 데이터 생성\n",
    "bdata = bytes(range(0, 256))\n",
    "print('bdata:',bdata, '\\n')\n",
    "print('len of bdata:',len(bdata))"
   ]
  },
  {
   "cell_type": "code",
   "execution_count": 9,
   "metadata": {
    "collapsed": false,
    "jupyter": {
     "outputs_hidden": false
    },
    "pycharm": {
     "name": "#%%\n"
    }
   },
   "outputs": [
    {
     "name": "stdout",
     "output_type": "stream",
     "text": [
      "writed len: 256 \n",
      "\n",
      "raw_bdata: b'\\x00\\x01\\x02\\x03\\x04\\x05\\x06\\x07\\x08\\t\\n\\x0b\\x0c\\r\\x0e\\x0f\\x10\\x11\\x12\\x13\\x14\\x15\\x16\\x17\\x18\\x19\\x1a\\x1b\\x1c\\x1d\\x1e\\x1f !\"#$%&\\'()*+,-./0123456789:;<=>?@ABCDEFGHIJKLMNOPQRSTUVWXYZ[\\\\]^_`abcdefghijklmnopqrstuvwxyz{|}~\\x7f\\x80\\x81\\x82\\x83\\x84\\x85\\x86\\x87\\x88\\x89\\x8a\\x8b\\x8c\\x8d\\x8e\\x8f\\x90\\x91\\x92\\x93\\x94\\x95\\x96\\x97\\x98\\x99\\x9a\\x9b\\x9c\\x9d\\x9e\\x9f\\xa0\\xa1\\xa2\\xa3\\xa4\\xa5\\xa6\\xa7\\xa8\\xa9\\xaa\\xab\\xac\\xad\\xae\\xaf\\xb0\\xb1\\xb2\\xb3\\xb4\\xb5\\xb6\\xb7\\xb8\\xb9\\xba\\xbb\\xbc\\xbd\\xbe\\xbf\\xc0\\xc1\\xc2\\xc3\\xc4\\xc5\\xc6\\xc7\\xc8\\xc9\\xca\\xcb\\xcc\\xcd\\xce\\xcf\\xd0\\xd1\\xd2\\xd3\\xd4\\xd5\\xd6\\xd7\\xd8\\xd9\\xda\\xdb\\xdc\\xdd\\xde\\xdf\\xe0\\xe1\\xe2\\xe3\\xe4\\xe5\\xe6\\xe7\\xe8\\xe9\\xea\\xeb\\xec\\xed\\xee\\xef\\xf0\\xf1\\xf2\\xf3\\xf4\\xf5\\xf6\\xf7\\xf8\\xf9\\xfa\\xfb\\xfc\\xfd\\xfe\\xff' \n",
      "\n"
     ]
    }
   ],
   "source": [
    "# 이진 데이터 쓰기\n",
    "fout = open('sample_bdata', 'wb')\n",
    "len = fout.write(bdata)\n",
    "print('writed len:', len, '\\n')\n",
    "fout.close()\n",
    "\n",
    "# 이진 데이터 읽기\n",
    "fin = open('sample_bdata', 'rb')\n",
    "raw_bdata = fin.read()\n",
    "print('raw_bdata:', raw_bdata, '\\n')\n",
    "fin.close()"
   ]
  },
  {
   "cell_type": "markdown",
   "metadata": {},
   "source": [
    "<br>\n",
    "\n",
    "## **8.1.5 자동으로 파일 닫기: with**"
   ]
  },
  {
   "cell_type": "markdown",
   "metadata": {},
   "source": [
    "#### 파일을 열고 닫는 작업을 context manager 에게 위임\n",
    "\n",
    "* #### `with` 표현식 `as` 변수"
   ]
  },
  {
   "cell_type": "code",
   "execution_count": 10,
   "metadata": {
    "collapsed": false,
    "jupyter": {
     "outputs_hidden": false
    },
    "pycharm": {
     "name": "#%%\n"
    }
   },
   "outputs": [
    {
     "name": "stdout",
     "output_type": "stream",
     "text": [
      "bdata_1: b'\\x00\\x01\\x02\\x03\\x04\\x05\\x06\\x07\\x08\\t\\n\\x0b\\x0c\\r\\x0e\\x0f\\x10\\x11\\x12\\x13\\x14\\x15\\x16\\x17\\x18\\x19\\x1a\\x1b\\x1c\\x1d\\x1e\\x1f !\"#$%&\\'()*+,-./0123456789:;<=>?@ABCDEFGHIJKLMNOPQRSTUVWXYZ[\\\\]^_`abcdefghijklmnopqrstuvwxyz{|}~\\x7f\\x80\\x81\\x82\\x83\\x84\\x85\\x86\\x87\\x88\\x89\\x8a\\x8b\\x8c\\x8d\\x8e\\x8f\\x90\\x91\\x92\\x93\\x94\\x95\\x96\\x97\\x98\\x99\\x9a\\x9b\\x9c\\x9d\\x9e\\x9f\\xa0\\xa1\\xa2\\xa3\\xa4\\xa5\\xa6\\xa7\\xa8\\xa9\\xaa\\xab\\xac\\xad\\xae\\xaf\\xb0\\xb1\\xb2\\xb3\\xb4\\xb5\\xb6\\xb7\\xb8\\xb9\\xba\\xbb\\xbc\\xbd\\xbe\\xbf\\xc0\\xc1\\xc2\\xc3\\xc4\\xc5\\xc6\\xc7\\xc8\\xc9\\xca\\xcb\\xcc\\xcd\\xce\\xcf\\xd0\\xd1\\xd2\\xd3\\xd4\\xd5\\xd6\\xd7\\xd8\\xd9\\xda\\xdb\\xdc\\xdd\\xde\\xdf\\xe0\\xe1\\xe2\\xe3\\xe4\\xe5\\xe6\\xe7\\xe8\\xe9\\xea\\xeb\\xec\\xed\\xee\\xef\\xf0\\xf1\\xf2\\xf3\\xf4\\xf5\\xf6\\xf7\\xf8\\xf9\\xfa\\xfb\\xfc\\xfd\\xfe\\xff' \n",
      "\n",
      "bdata_2: b'\\x00\\x01\\x02\\x03\\x04\\x05\\x06\\x07\\x08\\t\\n\\x0b\\x0c\\r\\x0e\\x0f\\x10\\x11\\x12\\x13\\x14\\x15\\x16\\x17\\x18\\x19\\x1a\\x1b\\x1c\\x1d\\x1e\\x1f !\"#$%&\\'()*+,-./0123456789:;<=>?@ABCDEFGHIJKLMNOPQRSTUVWXYZ[\\\\]^_`abcdefghijklmnopqrstuvwxyz{|}~\\x7f\\x80\\x81\\x82\\x83\\x84\\x85\\x86\\x87\\x88\\x89\\x8a\\x8b\\x8c\\x8d\\x8e\\x8f\\x90\\x91\\x92\\x93\\x94\\x95\\x96\\x97\\x98\\x99\\x9a\\x9b\\x9c\\x9d\\x9e\\x9f\\xa0\\xa1\\xa2\\xa3\\xa4\\xa5\\xa6\\xa7\\xa8\\xa9\\xaa\\xab\\xac\\xad\\xae\\xaf\\xb0\\xb1\\xb2\\xb3\\xb4\\xb5\\xb6\\xb7\\xb8\\xb9\\xba\\xbb\\xbc\\xbd\\xbe\\xbf\\xc0\\xc1\\xc2\\xc3\\xc4\\xc5\\xc6\\xc7\\xc8\\xc9\\xca\\xcb\\xcc\\xcd\\xce\\xcf\\xd0\\xd1\\xd2\\xd3\\xd4\\xd5\\xd6\\xd7\\xd8\\xd9\\xda\\xdb\\xdc\\xdd\\xde\\xdf\\xe0\\xe1\\xe2\\xe3\\xe4\\xe5\\xe6\\xe7\\xe8\\xe9\\xea\\xeb\\xec\\xed\\xee\\xef\\xf0\\xf1\\xf2\\xf3\\xf4\\xf5\\xf6\\xf7\\xf8\\xf9\\xfa\\xfb\\xfc\\xfd\\xfe\\xff' \n",
      "\n",
      "fout_plain is closed: False \n",
      "\n",
      "fout_manager is closed: True\n"
     ]
    }
   ],
   "source": [
    "fout_plain = open('sample_bdata', 'rb')\n",
    "print('bdata_1:',fout_plain.read(), '\\n')\n",
    "\n",
    "with open(\"sample_bdata\", 'rb') as fout_manager:\n",
    "    print('bdata_2:',fout_manager.read(), '\\n')\n",
    "\n",
    "print('fout_plain is closed:', fout_plain.closed, '\\n')\n",
    "print('fout_manager is closed:', fout_manager.closed)\n",
    "\n",
    "fout_plain.close()"
   ]
  },
  {
   "cell_type": "markdown",
   "metadata": {},
   "source": [
    "<br>\n",
    "\n",
    "## **8.1.6 파일 위치 찾기**\n",
    "\n",
    "#### `tell()`: 파일의 **현재 오프셋**을 바이트 단위로 반환"
   ]
  },
  {
   "cell_type": "code",
   "execution_count": 11,
   "metadata": {
    "collapsed": false,
    "jupyter": {
     "outputs_hidden": false
    },
    "pycharm": {
     "name": "#%%\n"
    }
   },
   "outputs": [
    {
     "name": "stdout",
     "output_type": "stream",
     "text": [
      "curr_offset: 0\n",
      "curr_offset: 255\n",
      "bdata: b'\\xff'\n"
     ]
    }
   ],
   "source": [
    "with open('sample_bdata', 'rb') as fout:\n",
    "    print('curr_offset:', fout.tell())\n",
    "    fout.seek(255)\n",
    "    print('curr_offset:', fout.tell())\n",
    "    print('bdata:', fout.read())"
   ]
  },
  {
   "cell_type": "markdown",
   "metadata": {},
   "source": [
    "<br>\n",
    "\n",
    "#### `seek(offset, origin)`: 파일을 특정 바이트 오프셋 위치로 **이동**\n",
    "* #### *origin* 0: 시작위치에서 *offset* 바이트 이후로 이동 (기본값)\n",
    "* #### *origin* 1: 현재위치 *offset* 바이트 이후로 이동\n",
    "* #### *origin* 2: 마지막위치에서 *offset* 바이트 위치로 이동"
   ]
  },
  {
   "cell_type": "code",
   "execution_count": 12,
   "metadata": {
    "collapsed": false,
    "jupyter": {
     "outputs_hidden": false
    },
    "pycharm": {
     "name": "#%%\n"
    }
   },
   "outputs": [
    {
     "name": "stdout",
     "output_type": "stream",
     "text": [
      "curr_offset: 0\n",
      "curr_offset: 255\n",
      "bdata: b'\\xff'\n"
     ]
    }
   ],
   "source": [
    "with open('sample_bdata', 'rb') as fout:\n",
    "    print('curr_offset:', fout.tell())\n",
    "    fout.seek(-1, 2)\n",
    "    print('curr_offset:', fout.tell())\n",
    "    print('bdata:', fout.read())"
   ]
  },
  {
   "cell_type": "markdown",
   "metadata": {},
   "source": [
    "<br>\n",
    "\n",
    "## **8.2 구조화된 텍스트파일**\n",
    "\n",
    "<br>\n",
    "\n",
    "## **8.2.1 CSV(Comma-Separated Values)**\n",
    "\n",
    "#### **표준 csv 모듈 사용하여 입출력**"
   ]
  },
  {
   "cell_type": "code",
   "execution_count": 13,
   "metadata": {
    "pycharm": {
     "name": "#%%\n"
    }
   },
   "outputs": [],
   "source": [
    "import csv\n",
    "\n",
    "months = [\n",
    "    ['ONE', 1],\n",
    "    ['TWO', 2],\n",
    "    ['THREE', 3],\n",
    "    ['FOUR', 4],\n",
    "    ['FIVE', 5]\n",
    "]\n",
    "\n",
    "# csv 파일쓰기\n",
    "with open('months', 'wt') as fout:\n",
    "    csv_out = csv.writer(fout)\n",
    "    csv_out.writerows(months)\n",
    "\n",
    "# csv 파일읽기\n",
    "with open('months', 'rt') as fin:\n",
    "    csv_in = csv.reader(fin)\n",
    "    csv_to_list = [row for row in csv_in]\n",
    "\n",
    "print(\"csv_to_list:\", csv_to_list)"
   ]
  },
  {
   "cell_type": "markdown",
   "metadata": {
    "jupyter": {
     "outputs_hidden": false
    },
    "pycharm": {
     "name": "#%% md\n"
    }
   },
   "source": [
    "<br>\n",
    "\n",
    "#### `DictReader()`: 딕셔너리의 리스트로 데이터 생성"
   ]
  },
  {
   "cell_type": "code",
   "execution_count": 14,
   "metadata": {
    "collapsed": false,
    "jupyter": {
     "outputs_hidden": false
    },
    "pycharm": {
     "name": "#%%\n"
    }
   },
   "outputs": [],
   "source": [
    "import csv\n",
    "with open('months', 'rt') as fin:\n",
    "    cin = csv.DictReader(fin, fieldnames=['NAME', 'NUM'])\n",
    "    csv_to_dict_list = [row for row in cin]\n",
    "    \n",
    "print('csv_to_dict_list', csv_to_dict_list)"
   ]
  },
  {
   "cell_type": "markdown",
   "metadata": {
    "pycharm": {
     "name": "#%% md\n"
    }
   },
   "source": [
    "<br>\n",
    "\n",
    "#### `DictWriter()`: 딕셔너리 데이터로 csv 파일 쓰기"
   ]
  },
  {
   "cell_type": "code",
   "execution_count": 15,
   "metadata": {
    "collapsed": false,
    "jupyter": {
     "outputs_hidden": false
    },
    "pycharm": {
     "name": "#%%\n"
    }
   },
   "outputs": [],
   "source": [
    "import csv\n",
    "\n",
    "months = [\n",
    "    {'NAME': 'ONE', 'NUM': 1},\n",
    "    {'NAME': 'TWO', 'NUM': 2},\n",
    "    {'NAME': 'THREE', 'NUM': 3},\n",
    "    {'NAME': 'FOUR', 'NUM': 4},\n",
    "    {'NAME': 'FIVE', 'NUM': 5}\n",
    "]\n",
    "\n",
    "# csv 파일쓰기\n",
    "with open('months', 'wt') as fout:\n",
    "    csv_out = csv.DictWriter(fout, fieldnames=['NAME','NUM'])\n",
    "    # header 를 써주면 첫번째 라인에 헤더정보가 입력\n",
    "    csv_out.writeheader()  \n",
    "    csv_out.writerows(months)\n",
    "\n",
    "# csv 파일읽기\n",
    "with open('months', 'rt') as fin:\n",
    "    # fieldnames 인자를 제외할때 : 첫번째 라인 => 딕셔너리의 key로 사용된다 \n",
    "    csv_in = csv.DictReader(fin)\n",
    "#     csv_in = csv.DictReader(fin, fieldnames=['NAME','NUM'])\n",
    "    csv_to_dict_list = [row for row in csv_in]\n",
    "\n",
    "print(\"csv_to_list:\", csv_to_dict_list)"
   ]
  },
  {
   "cell_type": "markdown",
   "metadata": {
    "jupyter": {
     "outputs_hidden": false
    },
    "pycharm": {
     "name": "#%% md\n"
    }
   },
   "source": [
    "<br>\n",
    "\n",
    "## **8.2 XML**\n",
    "#### **`ElementTree` 모듈 사용**"
   ]
  },
  {
   "cell_type": "code",
   "execution_count": 16,
   "metadata": {
    "collapsed": false,
    "jupyter": {
     "outputs_hidden": false
    },
    "pycharm": {
     "name": "#%%\n"
    }
   },
   "outputs": [
    {
     "name": "stdout",
     "output_type": "stream",
     "text": [
      "root tag: catalog \n",
      "\n",
      "tag: book attributes {'id': 'bk101'} \n",
      "\n",
      "tag: book attributes {'id': 'bk102'} \n",
      "\n",
      "tag: book attributes {'id': 'bk103'} \n",
      "\n",
      "tag: book attributes {'id': 'bk104'} \n",
      "\n",
      "tag: book attributes {'id': 'bk105'} \n",
      "\n",
      "tag: book attributes {'id': 'bk106'} \n",
      "\n",
      "tag: book attributes {'id': 'bk107'} \n",
      "\n",
      "tag: book attributes {'id': 'bk108'} \n",
      "\n",
      "tag: book attributes {'id': 'bk109'} \n",
      "\n",
      "tag: book attributes {'id': 'bk110'} \n",
      "\n",
      "tag: book attributes {'id': 'bk111'} \n",
      "\n",
      "tag: book attributes {'id': 'bk112'} \n",
      "\n"
     ]
    }
   ],
   "source": [
    "from xml.etree import ElementTree as et\n",
    "\n",
    "books_tree = et.parse('books.xml')\n",
    "book_root = books_tree.getroot()\n",
    "print('root tag:', book_root.tag, '\\n')\n",
    "\n",
    "for child in book_root:\n",
    "    print(\"tag:\", child.tag, 'attributes', child.attrib, '\\n')"
   ]
  },
  {
   "cell_type": "code",
   "execution_count": 17,
   "metadata": {
    "collapsed": false,
    "jupyter": {
     "outputs_hidden": false
    },
    "pycharm": {
     "name": "#%%\n"
    }
   },
   "outputs": [
    {
     "name": "stdout",
     "output_type": "stream",
     "text": [
      "first book genre: Computer \n",
      "\n"
     ]
    }
   ],
   "source": [
    "from xml.etree import ElementTree as et\n",
    "\n",
    "books_tree = et.parse('books.xml')\n",
    "book_root = books_tree.getroot()\n",
    "# offset 으로 접근 - 1번째 book의 genre 텍스트 얻어오기\n",
    "print('first book genre:', book_root[0][2].text, '\\n')"
   ]
  },
  {
   "cell_type": "code",
   "execution_count": 18,
   "metadata": {
    "collapsed": false,
    "jupyter": {
     "outputs_hidden": false
    },
    "pycharm": {
     "name": "#%%\n"
    }
   },
   "outputs": [
    {
     "name": "stdout",
     "output_type": "stream",
     "text": [
      "Computer\n",
      "Fantasy\n",
      "Fantasy\n",
      "Fantasy\n",
      "Fantasy\n",
      "Romance\n",
      "Romance\n",
      "Horror\n",
      "Science Fiction\n",
      "Computer\n",
      "Computer\n",
      "Computer\n"
     ]
    }
   ],
   "source": [
    "from xml.etree import ElementTree as et\n",
    "\n",
    "books_tree = et.parse('books.xml')\n",
    "book_root = books_tree.getroot()\n",
    "# 관심있는 element 탐색\n",
    "for genre in book_root.iter('genre'):\n",
    "    print(genre.text)"
   ]
  },
  {
   "cell_type": "code",
   "execution_count": 19,
   "metadata": {
    "collapsed": false,
    "jupyter": {
     "outputs_hidden": false
    },
    "pycharm": {
     "name": "#%%\n"
    }
   },
   "outputs": [
    {
     "name": "stdout",
     "output_type": "stream",
     "text": [
      "book_list: [{'book_id': 'bk101', 'title': \"XML Developer's Guide\", 'price': '44.95'}, {'book_id': 'bk102', 'title': 'Midnight Rain', 'price': '5.95'}, {'book_id': 'bk103', 'title': 'Maeve Ascendant', 'price': '5.95'}, {'book_id': 'bk104', 'title': \"Oberon's Legacy\", 'price': '5.95'}, {'book_id': 'bk105', 'title': 'The Sundered Grail', 'price': '5.95'}, {'book_id': 'bk106', 'title': 'Lover Birds', 'price': '4.95'}, {'book_id': 'bk107', 'title': 'Splish Splash', 'price': '4.95'}, {'book_id': 'bk108', 'title': 'Creepy Crawlies', 'price': '4.95'}, {'book_id': 'bk109', 'title': 'Paradox Lost', 'price': '6.95'}, {'book_id': 'bk110', 'title': 'Microsoft .NET: The Programming Bible', 'price': '36.95'}, {'book_id': 'bk111', 'title': 'MSXML3: A Comprehensive Guide', 'price': '36.95'}, {'book_id': 'bk112', 'title': 'Visual Studio 7: A Comprehensive Guide', 'price': '49.95'}]\n"
     ]
    }
   ],
   "source": [
    "from xml.etree import ElementTree as et\n",
    "\n",
    "books_tree = et.parse('books.xml')\n",
    "book_root = books_tree.getroot()\n",
    "\n",
    "# 관심있는 element 탐색2\n",
    "book_list = []\n",
    "for book in book_root.findall('book'):\n",
    "    book_obj = {}\n",
    "    book_obj['book_id'] = book.attrib['id']\n",
    "    book_obj['title'] = book.find('title').text\n",
    "    book_obj['price'] = book.find('price').text\n",
    "    book_list.append(book_obj)\n",
    "\n",
    "print(\"book_list:\", book_list)"
   ]
  },
  {
   "cell_type": "code",
   "execution_count": 20,
   "metadata": {
    "collapsed": false,
    "jupyter": {
     "outputs_hidden": false
    },
    "pycharm": {
     "name": "#%%\n"
    }
   },
   "outputs": [],
   "source": [
    "from xml.etree import ElementTree as et\n",
    "\n",
    "books_tree = et.parse('books.xml')\n",
    "book_root = books_tree.getroot()\n",
    "\n",
    "# xml 수정\n",
    "for book in book_root.findall('book'):\n",
    "    # attribute 추가/수정 : set\n",
    "    book.set('USE_YN','Y')\n",
    "    # child 추가/수정 : append\n",
    "    new_element = et.Element('PO_CNT')\n",
    "    new_element.text = '0'\n",
    "    book.append(new_element)\n",
    "\n",
    "books_tree.write('books_edit.xml')"
   ]
  },
  {
   "cell_type": "markdown",
   "metadata": {},
   "source": [
    "<br>\n",
    "\n",
    "## **8.2.4 JSON(JavaScript Object Notation)**\n",
    "\n",
    "#### **`json` 사용**"
   ]
  },
  {
   "cell_type": "code",
   "execution_count": 21,
   "metadata": {
    "collapsed": false,
    "jupyter": {
     "outputs_hidden": false
    },
    "pycharm": {
     "name": "#%%\n"
    }
   },
   "outputs": [],
   "source": [
    "widget_json = {\"widget\": {\n",
    "            \"debug\": \"on\",\n",
    "            \"window\": {\n",
    "                \"title\": \"Sample Konfabulator Widget\",\n",
    "                \"name\": \"main_window\",\n",
    "                \"width\": 500,\n",
    "                \"height\": 500\n",
    "            },\n",
    "            \"image\": {\n",
    "                \"src\": \"Images/Sun.png\",\n",
    "                \"name\": \"sun1\",\n",
    "                \"hOffset\": 250,\n",
    "                \"vOffset\": 250,\n",
    "                \"alignment\": \"center\"\n",
    "            },\n",
    "            \"text\": {\n",
    "                \"data\": \"Click Here\",\n",
    "                \"size\": 36,\n",
    "                \"style\": \"bold\",\n",
    "                \"name\": \"text1\",\n",
    "                \"hOffset\": 250,\n",
    "                \"vOffset\": 100,\n",
    "                \"alignment\": \"center\",\n",
    "                \"onMouseUp\": \"sun1.opacity = (sun1.opacity / 100) * 90;\"\n",
    "            }\n",
    "        }}"
   ]
  },
  {
   "cell_type": "markdown",
   "metadata": {},
   "source": [
    "<br>\n",
    "\n",
    "#### `dumps(json)`: json 을 문자열로 변환"
   ]
  },
  {
   "cell_type": "code",
   "execution_count": 22,
   "metadata": {
    "collapsed": false,
    "jupyter": {
     "outputs_hidden": false
    },
    "pycharm": {
     "name": "#%%\n"
    }
   },
   "outputs": [
    {
     "name": "stdout",
     "output_type": "stream",
     "text": [
      "widget_str type: <class 'str'>\n",
      "widget_str: {\"widget\": {\"debug\": \"on\", \"window\": {\"title\": \"Sample Konfabulator Widget\", \"name\": \"main_window\", \"width\": 500, \"height\": 500}, \"image\": {\"src\": \"Images/Sun.png\", \"name\": \"sun1\", \"hOffset\": 250, \"vOffset\": 250, \"alignment\": \"center\"}, \"text\": {\"data\": \"Click Here\", \"size\": 36, \"style\": \"bold\", \"name\": \"text1\", \"hOffset\": 250, \"vOffset\": 100, \"alignment\": \"center\", \"onMouseUp\": \"sun1.opacity = (sun1.opacity / 100) * 90;\"}}}\n"
     ]
    }
   ],
   "source": [
    "import json\n",
    "widget_str = json.dumps(widget_json)\n",
    "print('widget_str type:', type(widget_str))\n",
    "print('widget_str:', widget_str)"
   ]
  },
  {
   "cell_type": "markdown",
   "metadata": {
    "pycharm": {
     "name": "#%% md\n"
    }
   },
   "source": [
    "<br>\n",
    "\n",
    "#### `loads(json)`: json 을 문자열로 변환"
   ]
  },
  {
   "cell_type": "code",
   "execution_count": 23,
   "metadata": {
    "collapsed": false,
    "jupyter": {
     "outputs_hidden": false
    },
    "pycharm": {
     "name": "#%%\n"
    }
   },
   "outputs": [
    {
     "name": "stdout",
     "output_type": "stream",
     "text": [
      "widget_json_load type: <class 'dict'>\n",
      "widget_json_load: {'widget': {'debug': 'on', 'window': {'title': 'Sample Konfabulator Widget', 'name': 'main_window', 'width': 500, 'height': 500}, 'image': {'src': 'Images/Sun.png', 'name': 'sun1', 'hOffset': 250, 'vOffset': 250, 'alignment': 'center'}, 'text': {'data': 'Click Here', 'size': 36, 'style': 'bold', 'name': 'text1', 'hOffset': 250, 'vOffset': 100, 'alignment': 'center', 'onMouseUp': 'sun1.opacity = (sun1.opacity / 100) * 90;'}}}\n"
     ]
    }
   ],
   "source": [
    "widget_json_load = json.loads(widget_str)\n",
    "print('widget_json_load type:', type(widget_json_load))\n",
    "print('widget_json_load:', widget_json_load)"
   ]
  },
  {
   "cell_type": "markdown",
   "metadata": {
    "pycharm": {
     "name": "#%% md\n"
    }
   },
   "source": [
    "<br>\n",
    "\n",
    "#### JSON 으로 **변환할 수 없는 경우**"
   ]
  },
  {
   "cell_type": "code",
   "execution_count": 24,
   "metadata": {
    "collapsed": false,
    "jupyter": {
     "outputs_hidden": false
    },
    "pycharm": {
     "name": "#%%\n"
    }
   },
   "outputs": [],
   "source": [
    "import datetime as dt\n",
    "\n",
    "new_user = {}\n",
    "new_user['id'] = 'bkb'\n",
    "now= dt.datetime.utcnow()\n",
    "new_user['create_at'] = now\n",
    "print('new_user:', new_user)\n",
    "\n",
    "# TypeError: Object of type datetime is not JSON serializable\n",
    "new_user_str = json.dumps(new_user)"
   ]
  },
  {
   "cell_type": "markdown",
   "metadata": {},
   "source": [
    "<br>\n",
    "\n",
    "#### 방법1: **`str()`** 메서드 사용"
   ]
  },
  {
   "cell_type": "code",
   "execution_count": 25,
   "metadata": {
    "collapsed": false,
    "jupyter": {
     "outputs_hidden": false
    },
    "pycharm": {
     "name": "#%%\n"
    }
   },
   "outputs": [
    {
     "name": "stdout",
     "output_type": "stream",
     "text": [
      "new_user_str {\"id\": \"bkb\", \"create_at\": \"2020-07-20 19:44:56.415722\"}\n"
     ]
    }
   ],
   "source": [
    "new_user['create_at'] = str(new_user['create_at'])\n",
    "new_user_str = json.dumps(new_user)\n",
    "print('new_user_str', new_user_str)"
   ]
  },
  {
   "cell_type": "markdown",
   "metadata": {
    "pycharm": {
     "name": "#%% md\n"
    }
   },
   "source": [
    "<br>\n",
    "\n",
    "#### 방법2: **`JSONEncoder`** 상속"
   ]
  },
  {
   "cell_type": "code",
   "execution_count": 26,
   "metadata": {
    "collapsed": false,
    "jupyter": {
     "outputs_hidden": false
    },
    "pycharm": {
     "name": "#%%\n"
    }
   },
   "outputs": [
    {
     "name": "stdout",
     "output_type": "stream",
     "text": [
      "new_user_str {\"id\": \"bkb\", \"create_at\": \"2020-07-20 19:44:56.415722\"}\n"
     ]
    }
   ],
   "source": [
    "class CustomEncoder(json.JSONEncoder):\n",
    "\n",
    "    def default(self, o):\n",
    "        if isinstance(o, dt.datetime):\n",
    "            return str(o)\n",
    "        return super().default(o)\n",
    "new_user_str = json.dumps(new_user, cls=CustomEncoder)\n",
    "print('new_user_str', new_user_str)"
   ]
  },
  {
   "cell_type": "markdown",
   "metadata": {
    "jupyter": {
     "outputs_hidden": false
    },
    "pycharm": {
     "name": "#%% md\n"
    }
   },
   "source": [
    "\n",
    "<br>\n",
    "\n",
    "## **8.2.9 직렬화하기: pickle**\n",
    "\n",
    "#### `pickle`: 바이너리 형식으로 된 객체를 저장/복완 할수 있는 모듈\n",
    "* ####  `dump`: 직렬화\n",
    "* ####  `load`: 역직렬화\n"
   ]
  },
  {
   "cell_type": "code",
   "execution_count": 3,
   "metadata": {
    "collapsed": false,
    "jupyter": {
     "outputs_hidden": false
    },
    "pycharm": {
     "name": "#%%\n"
    }
   },
   "outputs": [
    {
     "name": "stdout",
     "output_type": "stream",
     "text": [
      "serialized_now: b'\\x80\\x04\\x95*\\x00\\x00\\x00\\x00\\x00\\x00\\x00\\x8c\\x08datetime\\x94\\x8c\\x08datetime\\x94\\x93\\x94C\\n\\x07\\xe4\\x07\\x14\\x14\\x07\\x1f\\x07\\xca\\xbc\\x94\\x85\\x94R\\x94.' \n",
      "\n",
      "deserialized_now: 2020-07-20 20:07:31.510652\n"
     ]
    }
   ],
   "source": [
    "import pickle as pc\n",
    "import datetime as dt\n",
    "\n",
    "now = dt.datetime.utcnow()\n",
    "serialized_now = pc.dumps(now)\n",
    "print('serialized_now:', serialized_now, '\\n')\n",
    "deserialized_now = pc.loads(serialized_now)\n",
    "print('deserialized_now:', deserialized_now)"
   ]
  },
  {
   "cell_type": "markdown",
   "metadata": {
    "jupyter": {
     "outputs_hidden": false
    },
    "pycharm": {
     "name": "#%% md\n"
    }
   },
   "source": [
    "<br>\n",
    "\n",
    "## **8.4 관계형 데이터베이스**<br>\n",
    "\n",
    "## **8.4.2 DB-API**\n",
    "\n",
    "##### **관계형 데이터베이스**에 접근하기 위한 **파이썬의 표준 API**\n",
    "* ##### **`connect()`**: 데이터베이스 연결생성. 사용자이름, 비밀번호, 서버주소 등의 인자를 포함\n",
    "* ##### **`cursor()`**: 질의를 관리하기 위한 커서 객체를 만든다\n",
    "* ##### **`excute().executemany()`**: 하나 이상의 SQL 명령 실행\n",
    "* ##### **`fetchone().fetchmany().fetchall()`**: 실행 결과를 얻어옴\n",
    "\n",
    "## **8.4.3 SQLite**\n",
    "\n",
    "##### `sqlite3` 라아브러리 이용"
   ]
  },
  {
   "cell_type": "code",
   "execution_count": 1,
   "metadata": {
    "collapsed": false,
    "jupyter": {
     "outputs_hidden": false
    },
    "pycharm": {
     "name": "#%%\n"
    }
   },
   "outputs": [],
   "source": [
    "import sqlite3\n",
    "\n",
    "# 연결, 부재시 local db 파일 생성\n",
    "conn = sqlite3.connect('sample.db')\n",
    "curs = conn.cursor()"
   ]
  },
  {
   "cell_type": "code",
   "execution_count": 2,
   "metadata": {
    "collapsed": false,
    "jupyter": {
     "outputs_hidden": false
    },
    "pycharm": {
     "name": "#%%\n"
    }
   },
   "outputs": [
    {
     "ename": "OperationalError",
     "evalue": "table STUDENT already exists",
     "output_type": "error",
     "traceback": [
      "\u001B[1;31m---------------------------------------------------------------------------\u001B[0m",
      "\u001B[1;31mOperationalError\u001B[0m                          Traceback (most recent call last)",
      "\u001B[1;32m<ipython-input-2-ee5e3d018172>\u001B[0m in \u001B[0;36m<module>\u001B[1;34m\u001B[0m\n\u001B[0;32m      4\u001B[0m \u001B[0mNAME\u001B[0m \u001B[0mVARCHAR\u001B[0m\u001B[1;33m(\u001B[0m\u001B[1;36m20\u001B[0m\u001B[1;33m)\u001B[0m \u001B[0mPRIMARY\u001B[0m \u001B[0mKEY\u001B[0m\u001B[1;33m,\u001B[0m\u001B[1;33m\u001B[0m\u001B[1;33m\u001B[0m\u001B[0m\n\u001B[0;32m      5\u001B[0m AGE INT)\n\u001B[1;32m----> 6\u001B[1;33m ''')\n\u001B[0m",
      "\u001B[1;31mOperationalError\u001B[0m: table STUDENT already exists"
     ]
    }
   ],
   "source": [
    "# 테이블생성\n",
    "curs.execute('''\n",
    "CREATE TABLE STUDENT (\n",
    "NAME VARCHAR(20) PRIMARY KEY,\n",
    "AGE INT)\n",
    "''')\n",
    "conn.commit()"
   ]
  },
  {
   "cell_type": "code",
   "execution_count": 3,
   "metadata": {
    "collapsed": false,
    "jupyter": {
     "outputs_hidden": false
    },
    "pycharm": {
     "name": "#%%\n"
    }
   },
   "outputs": [
    {
     "data": {
      "text/plain": [
       "<sqlite3.Cursor at 0x29574efb960>"
      ]
     },
     "execution_count": 3,
     "metadata": {},
     "output_type": "execute_result"
    }
   ],
   "source": [
    "# 데이터입력\n",
    "curs.execute(\"INSERT INTO STUDENT VALUES('KIM', 20)\")\n",
    "conn.commit()"
   ]
  },
  {
   "cell_type": "code",
   "execution_count": 4,
   "metadata": {
    "collapsed": false,
    "jupyter": {
     "outputs_hidden": false
    },
    "pycharm": {
     "name": "#%%\n"
    }
   },
   "outputs": [
    {
     "data": {
      "text/plain": [
       "<sqlite3.Cursor at 0x29574efb960>"
      ]
     },
     "execution_count": 4,
     "metadata": {},
     "output_type": "execute_result"
    }
   ],
   "source": [
    "# placeholder 사용하여 데이터입력\n",
    "ins = 'INSERT INTO STUDENT(NAME, AGE) VALUES(?, ?)'\n",
    "curs.execute(ins, ('LEE', 22))\n",
    "conn.commit()"
   ]
  },
  {
   "cell_type": "code",
   "execution_count": 9,
   "metadata": {
    "collapsed": false,
    "jupyter": {
     "outputs_hidden": false
    },
    "pycharm": {
     "name": "#%%\n"
    }
   },
   "outputs": [
    {
     "name": "stdout",
     "output_type": "stream",
     "text": [
      "[('KIM', 20)]\n"
     ]
    }
   ],
   "source": [
    "# 데이터조회\n",
    "ins = 'SELECT NAME, AGE FROM STUDENT WHERE NAME = ?'\n",
    "\n",
    "# ?\n",
    "curs.execute(ins, ('KIM'))\n",
    "print(curs.fetchall())\n",
    "curs.close()\n",
    "conn.close()"
   ]
  },
  {
   "cell_type": "markdown",
   "metadata": {},
   "source": [
    "\n",
    "<br>\n",
    "\n",
    "## **8.4.6 SQLAlchemy**\n",
    "\n",
    "가장 인기 있는 크로스 데이터베이스의 파이썬 라이브러리\n",
    "\n",
    "`pip install sqlalchemy`\n",
    "\n",
    "* 가장 낮은 수준에서 데이터베이스 커넥션 풀을 처리\n",
    "* 파이써닉한 SQL 빌더\n",
    "* ORM - 관계형 자료구조와 어플리케이션 코드를 바인딩\n",
    "\n"
   ]
  },
  {
   "cell_type": "code",
   "execution_count": 5,
   "metadata": {
    "collapsed": false,
    "jupyter": {
     "outputs_hidden": false
    },
    "pycharm": {
     "name": "#%%\n"
    }
   },
   "outputs": [],
   "source": [
    "import sqlalchemy as sa\n",
    "\n",
    "# 데이터베이스 커넥션 얻어오기\n",
    "# 데이터베이스타입 + 드라이버 :// user : password @ host : port / dbname\n",
    "conn = sa.create_engine('sqlite:///sample_db2')\n"
   ]
  },
  {
   "cell_type": "code",
   "execution_count": null,
   "outputs": [],
   "source": [
    "# 테이블 생성\n",
    "conn.execute('''\n",
    "CREATE TABLE STUDENT (\n",
    "NAME VARCHAR(20) PRIMARY KEY,\n",
    "AGE INT)\n",
    "''')"
   ],
   "metadata": {
    "collapsed": false,
    "pycharm": {
     "name": "#%%\n"
    }
   }
  },
  {
   "cell_type": "code",
   "execution_count": null,
   "outputs": [],
   "source": [
    "# 데이터 입력\n",
    "conn.execute(\"INSERT INTO STUDENT VALUES('KIM', 20)\")\n",
    "\n",
    "# placeholder 사용하여 데이터입력 (튜플)\n",
    "ins = 'INSERT INTO STUDENT(NAME, AGE) VALUES(?, ?)'\n",
    "conn.execute(ins, ('LEE', 22))\n",
    "\n",
    "# placeholder 사용하여 데이터입력 (**args)\n",
    "ins = 'INSERT INTO STUDENT(NAME, AGE) VALUES(?, ?)'\n",
    "conn.execute(ins, 'PARK', 25)"
   ],
   "metadata": {
    "collapsed": false,
    "pycharm": {
     "name": "#%%\n"
    }
   }
  },
  {
   "cell_type": "code",
   "execution_count": null,
   "outputs": [],
   "source": [
    "# 데이터 확인\n",
    "rows = conn.execute('SELECT * FROM STUDENT')\n",
    "print('rows type:',type(rows))\n",
    "\n",
    "for row in rows:\n",
    "    print(row)\n"
   ],
   "metadata": {
    "collapsed": false,
    "pycharm": {
     "name": "#%%\n"
    }
   }
  },
  {
   "cell_type": "markdown",
   "source": [
    "\n",
    "<br>\n",
    "\n",
    "### **SQL 표현언어(EL) 사용**"
   ],
   "metadata": {
    "collapsed": false
   }
  },
  {
   "cell_type": "code",
   "execution_count": null,
   "outputs": [],
   "source": [
    "import sqlalchemy as sa\n",
    "\n",
    "conn = sa.create_engine('sqlite:///sample_db2')\n",
    "\n",
    "# 어플리케이션 내에 테이블의 구조 매핑\n",
    "meta = sa.MetaData()\n",
    "student = sa.Table('student', meta,\n",
    "                   sa.Column('NAME', sa.String, primary_key=True),\n",
    "                   sa.Column('AGE', sa.Integer)\n",
    "                  )\n",
    "meta.create_all(conn)\n",
    "\n",
    "conn.execute(student.insert(('BANG', 31)))"
   ],
   "metadata": {
    "collapsed": false,
    "pycharm": {
     "name": "#%%\n"
    }
   },
   "outputs": [],
   "source": []
  },
  {
   "cell_type": "code",
   "execution_count": null,
   "metadata": {},
   "outputs": [],
   "source": []
  },
  {
   "cell_type": "markdown",
   "metadata": {},
   "source": [
    "\n",
    "<br>\n",
    "\n",
    "### **ORM**\n",
    "\n",
    "`ORM 클래스`를 정의하여 데이터베이스의 데이터 입출력 처리<br>\n",
    "코드의 객채를 참조하여 파이썬처럼 작동하게 하는 것"
   ]
  },
  {
   "cell_type": "code",
   "execution_count": 24,
   "metadata": {},
   "outputs": [],
   "source": [
    "# 연결\n",
    "import sqlalchemy as sa\n",
    "from sqlalchemy.ext.declarative import declarative_base as dcb\n",
    "\n",
    "conn = sa.create_engine('sqlite:///sample_orm.db')"
   ]
  },
  {
   "cell_type": "code",
   "execution_count": 25,
   "metadata": {},
   "outputs": [],
   "source": [
    "# ORM Class 생성\n",
    "Base = dcb()\n",
    "\n",
    "class Student(Base):\n",
    "    __tablename__ = 'student'\n",
    "    name = sa.Column('name', sa.String, primary_key=True)\n",
    "    age = sa.Column('age', sa.Integer)\n",
    "    \n",
    "    def __init__(self, name, age):\n",
    "        self.name = name\n",
    "        self.age = age\n",
    "        \n",
    "    def __repr__(self):\n",
    "        return \"<Student({},{})>\".format(self.name, self.age)\n",
    "    \n",
    "# 정의한 ORM class 로 테이블 생성\n",
    "Base.metadata.create_all(conn)"
   ]
  },
  {
   "cell_type": "code",
   "execution_count": 26,
   "metadata": {},
   "outputs": [
    {
     "name": "stdout",
     "output_type": "stream",
     "text": [
      "student_1: <Student(KIM,20)>\n",
      "student_2: <Student(LEE,22)>\n",
      "student_3: <Student(PARK,25)>\n",
      "student_4: <Student(KO,25)>\n"
     ]
    }
   ],
   "source": [
    "# 정의한 ORM 객체 생성\n",
    "student_1 = Student('KIM', 20)\n",
    "student_2 = Student('LEE', 22)\n",
    "student_3 = Student('PARK', 25)\n",
    "student_4 = Student('KO', 25)\n",
    "\n",
    "print(\"student_1:\", student_1)\n",
    "print(\"student_2:\", student_2)\n",
    "print(\"student_3:\", student_3)\n",
    "print(\"student_4:\", student_4)"
   ]
  },
  {
   "cell_type": "code",
   "execution_count": 27,
   "metadata": {},
   "outputs": [],
   "source": [
    "from sqlalchemy.orm import sessionmaker\n",
    "# 해당 객체를 사용하여 데이터베이스 작업수행\n",
    "\n",
    "# 세션 생성\n",
    "session = sessionmaker(bind=conn)()"
   ]
  },
  {
   "cell_type": "code",
   "execution_count": 28,
   "metadata": {},
   "outputs": [],
   "source": [
    "# ORM 객체 단일 Insert\n",
    "session.add(student_1)\n",
    "\n",
    "# ORM 객체 다중 Insert\n",
    "session.add_all([student_2, student_3, student_4])\n",
    "\n",
    "# 트랜잭션 커밋\n",
    "session.commit()"
   ]
  },
  {
   "cell_type": "code",
   "execution_count": 33,
   "metadata": {},
   "outputs": [
    {
     "name": "stdout",
     "output_type": "stream",
     "text": [
      "student_all: [<Student(KIM,20)>, <Student(LEE,22)>, <Student(PARK,25)>, <Student(KO,25)>]\n",
      "student_k: [<Student(KIM,20)>, <Student(KO,25)>]\n"
     ]
    }
   ],
   "source": [
    "# 조회\n",
    "\n",
    "# 전체 Select\n",
    "student_all = session.query(Student).all()\n",
    "\n",
    "# 조건문 Select\n",
    "student_k = session.query(Student)\\\n",
    "                    .filter(Student.name.like('K%'))\\\n",
    "                    .order_by(Student.age)\\\n",
    "                    .all()\n",
    "            \n",
    "print('student_all:', student_all)\n",
    "print('student_k:', student_k)\n",
    "                   "
   ]
  },
  {
   "cell_type": "code",
   "execution_count": null,
   "outputs": [],
   "source": [
    " "
   ],
   "metadata": {
    "collapsed": false,
    "pycharm": {
     "name": "#%%\n"
    }
   }
  },
  {
   "cell_type": "code",
   "execution_count": 7,
   "metadata": {},
   "outputs": [
    {
     "data": {
      "text/plain": [
       "<sqlalchemy.engine.result.ResultProxy at 0x10ac2a4f0>"
      ]
     },
     "execution_count": 7,
     "metadata": {},
     "output_type": "execute_result"
    }
   ],
   "source": [
    " "
   ]
  },
  {
   "cell_type": "code",
   "execution_count": 12,
   "metadata": {},
   "outputs": [
    {
     "data": {
      "text/plain": [
       "<sqlalchemy.engine.result.ResultProxy at 0x10ac2aeb0>"
      ]
     },
     "execution_count": 12,
     "metadata": {},
     "output_type": "execute_result"
    }
   ],
   "source": [
    "# 데이터 입력\n",
    "conn.execute(\"INSERT INTO STUDENT VALUES('KIM', 20)\")\n",
    "\n",
    "# placeholder 사용하여 데이터입력 (튜플)\n",
    "ins = 'INSERT INTO STUDENT(NAME, AGE) VALUES(?, ?)'\n",
    "conn.execute(ins, ('LEE', 22))\n",
    "\n",
    "# placeholder 사용하여 데이터입력 (**args)\n",
    "ins = 'INSERT INTO STUDENT(NAME, AGE) VALUES(?, ?)'\n",
    "conn.execute(ins, 'PARK', 25)"
   ]
  },
  {
   "cell_type": "code",
   "execution_count": 15,
   "metadata": {},
   "outputs": [
    {
     "name": "stdout",
     "output_type": "stream",
     "text": [
      "rows type: <class 'sqlalchemy.engine.result.ResultProxy'>\n",
      "('KIM', 20)\n",
      "('LEE', 22)\n",
      "('PARK', 25)\n"
     ]
    }
   ],
   "source": [
    "# 데이터 확인\n",
    "rows = conn.execute('SELECT * FROM STUDENT')\n",
    "print('rows type:',type(rows))\n",
    "\n",
    "for row in rows:\n",
    "    print(row)\n"
   ]
  },
  {
   "cell_type": "markdown",
   "metadata": {},
   "source": [
    "\n",
    "<br>\n",
    "\n",
    "### **SQL 표현언어(EL) 사용**"
   ]
  },
  {
   "cell_type": "code",
   "execution_count": 6,
   "metadata": {},
   "outputs": [],
   "source": [
    "import sqlalchemy as sa\n",
    "\n",
    "conn = sa.create_engine('sqlite:///sample_db2')\n",
    "\n",
    "# 어플리케이션 내에 테이블의 구조 매핑\n",
    "meta = sa.MetaData()\n",
    "student = sa.Table('student', meta,\n",
    "                   sa.Column('NAME', sa.String, primary_key=True),\n",
    "                   sa.Column('AGE', sa.Integer)\n",
    "                  )\n",
    "meta.create_all(conn)\n",
    "\n",
    "conn.execute(student.insert(('BANG', 31)))"
   ]
  },
  {
   "cell_type": "code",
   "execution_count": 7,
   "metadata": {},
   "outputs": [
    {
     "name": "stdout",
     "output_type": "stream",
     "text": [
      "[('KIM', 20), ('LEE', 22), ('PARK', 25), ('BANG', 31)]\n"
     ]
    }
   ],
   "source": [
    "# 데이터 조회\n",
    "result = conn.execute(student.select())\n",
    "rows = result.fetchall()\n",
    "print(rows)"
   ]
  },
  {
   "cell_type": "code",
   "execution_count": null,
   "metadata": {},
   "outputs": [],
   "source": [
    " "
   ]
  }
 ],
 "metadata": {
  "kernelspec": {
   "display_name": "PyCharm (python-study)",
   "language": "python",
   "name": "pycharm-f0dc0b1"
  },
  "language_info": {
   "codemirror_mode": {
    "name": "ipython",
    "version": 3
   },
   "file_extension": ".py",
   "mimetype": "text/x-python",
   "name": "python",
   "nbconvert_exporter": "python",
   "pygments_lexer": "ipython3",
   "version": "3.7.6"
  }
 },
 "nbformat": 4,
 "nbformat_minor": 4
}
